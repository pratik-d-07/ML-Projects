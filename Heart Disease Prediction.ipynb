{
 "cells": [
  {
   "cell_type": "code",
   "execution_count": 1,
   "id": "216cf1d2",
   "metadata": {},
   "outputs": [],
   "source": [
    "import pandas as pd\n",
    "import numpy as np\n",
    "from sklearn import ensemble,model_selection,metrics,preprocessing"
   ]
  },
  {
   "cell_type": "code",
   "execution_count": 2,
   "id": "43824192",
   "metadata": {},
   "outputs": [
    {
     "name": "stdout",
     "output_type": "stream",
     "text": [
      "   Age Sex ChestPainType  RestingBP  Cholesterol  FastingBS RestingECG  MaxHR  \\\n",
      "0   40   M           ATA        140          289          0     Normal    172   \n",
      "1   49   F           NAP        160          180          0     Normal    156   \n",
      "2   37   M           ATA        130          283          0         ST     98   \n",
      "3   48   F           ASY        138          214          0     Normal    108   \n",
      "4   54   M           NAP        150          195          0     Normal    122   \n",
      "\n",
      "  ExerciseAngina  Oldpeak STSlope  HeartDisease  \n",
      "0              N      0.0      Up             0  \n",
      "1              N      1.0    Flat             1  \n",
      "2              N      0.0      Up             0  \n",
      "3              Y      1.5    Flat             1  \n",
      "4              N      0.0      Up             0  \n"
     ]
    }
   ],
   "source": [
    "heart_data = pd.read_csv(\"heart_disease.csv\")\n",
    "print(heart_data.head())"
   ]
  },
  {
   "cell_type": "code",
   "execution_count": 3,
   "id": "36c40bbc",
   "metadata": {},
   "outputs": [
    {
     "name": "stdout",
     "output_type": "stream",
     "text": [
      "Index(['Age', 'Sex', 'ChestPainType', 'RestingBP', 'Cholesterol', 'FastingBS',\n",
      "       'RestingECG', 'MaxHR', 'ExerciseAngina', 'Oldpeak', 'STSlope',\n",
      "       'HeartDisease'],\n",
      "      dtype='object')\n"
     ]
    }
   ],
   "source": [
    "print(heart_data.keys())"
   ]
  },
  {
   "cell_type": "code",
   "execution_count": 4,
   "id": "f76df160",
   "metadata": {},
   "outputs": [],
   "source": [
    "label =  preprocessing.LabelEncoder()"
   ]
  },
  {
   "cell_type": "code",
   "execution_count": 5,
   "id": "7552c6de",
   "metadata": {},
   "outputs": [
    {
     "name": "stdout",
     "output_type": "stream",
     "text": [
      "   Age  Sex  ChestPainType  RestingBP  Cholesterol  FastingBS  RestingECG  \\\n",
      "0   40    1              1        140          289          0           1   \n",
      "1   49    0              2        160          180          0           1   \n",
      "2   37    1              1        130          283          0           2   \n",
      "3   48    0              0        138          214          0           1   \n",
      "4   54    1              2        150          195          0           1   \n",
      "\n",
      "   MaxHR  ExerciseAngina  Oldpeak  STSlope  HeartDisease  \n",
      "0    172               0      0.0        2             0  \n",
      "1    156               0      1.0        1             1  \n",
      "2     98               0      0.0        2             0  \n",
      "3    108               1      1.5        1             1  \n",
      "4    122               0      0.0        2             0  \n"
     ]
    }
   ],
   "source": [
    "heart_data.Sex = label.fit_transform(heart_data.Sex)\n",
    "heart_data.ChestPainType = label.fit_transform(heart_data.ChestPainType)\n",
    "heart_data.RestingECG = label.fit_transform(heart_data.RestingECG)\n",
    "heart_data.ExerciseAngina = label.fit_transform(heart_data.ExerciseAngina)\n",
    "heart_data.STSlope = label.fit_transform(heart_data.STSlope)\n",
    "print(heart_data.head())"
   ]
  },
  {
   "cell_type": "code",
   "execution_count": 6,
   "id": "fa60c965",
   "metadata": {},
   "outputs": [],
   "source": [
    "X = heart_data.drop(columns=['HeartDisease'],axis=1).values\n",
    "y = heart_data['HeartDisease'].values"
   ]
  },
  {
   "cell_type": "code",
   "execution_count": 7,
   "id": "e5004011",
   "metadata": {},
   "outputs": [],
   "source": [
    "X_train,X_test,y_train,y_test = model_selection.train_test_split(X,y,train_size=0.8,random_state=5)"
   ]
  },
  {
   "cell_type": "code",
   "execution_count": 8,
   "id": "d4a2c271",
   "metadata": {},
   "outputs": [],
   "source": [
    "scaler = preprocessing.StandardScaler()"
   ]
  },
  {
   "cell_type": "code",
   "execution_count": 9,
   "id": "0753a90c",
   "metadata": {},
   "outputs": [
    {
     "data": {
      "text/plain": [
       "StandardScaler()"
      ]
     },
     "execution_count": 9,
     "metadata": {},
     "output_type": "execute_result"
    }
   ],
   "source": [
    "scaler.fit(X_train)"
   ]
  },
  {
   "cell_type": "code",
   "execution_count": 10,
   "id": "29a6361e",
   "metadata": {},
   "outputs": [],
   "source": [
    "X_train = scaler.transform(X_train)\n",
    "X_test = scaler.transform(X_test)"
   ]
  },
  {
   "cell_type": "code",
   "execution_count": 11,
   "id": "924952d8",
   "metadata": {},
   "outputs": [],
   "source": [
    "model = ensemble.RandomForestClassifier()"
   ]
  },
  {
   "cell_type": "code",
   "execution_count": 12,
   "id": "4264ef19",
   "metadata": {},
   "outputs": [
    {
     "name": "stdout",
     "output_type": "stream",
     "text": [
      "y_predicted:  [1 0 1 1 0 0 0 1 0 0 1 0 1 0 0 1 0 0 0 1 1 1 1 0 1 1 1 0 1 1 0 1 0 1 0 1 1\n",
      " 1 0 0 1 0 1 0 0 1 1 1 1 1 1 1 0 1 1 0 1 1 1 0 1 0 1 0 0 1 1 0 1 0 0 1 1 0\n",
      " 0 1 0 1 0 1 1 0 1 1 1 1 1 0 1 0 0 1 1 1 1 0 1 0 1 1 1 1 0 1 0 0 1 1 1 1 0\n",
      " 1 0 1 0 0 1 1 0 1 1 1 1 0 0 0 1 0 1 1 1 0 0 1 1 1 0 1 1 1 0 0 0 1 0 1 1 1\n",
      " 0 1 0 0 1 1 0 0 1 0 1 1 1 1 1 0 1 0 1 1 1 0 0 1 0 1 0 0 1 0 0 0 0 1 1 0]\n",
      "y_actual:  [1 0 1 1 0 0 0 1 0 0 1 1 1 0 0 1 0 0 0 1 1 1 1 0 1 1 1 0 1 1 1 1 0 1 0 1 1\n",
      " 0 0 0 1 0 1 0 0 1 0 1 1 1 1 0 0 1 1 1 1 1 1 0 1 0 1 0 0 1 1 0 1 0 0 1 1 1\n",
      " 0 1 0 1 1 1 1 0 1 1 1 1 1 0 1 1 0 1 1 1 1 0 0 0 1 1 1 1 0 1 0 1 1 1 1 1 0\n",
      " 1 0 1 0 0 1 1 1 1 1 1 1 0 1 0 1 0 1 0 1 0 0 1 1 1 1 1 1 1 0 0 1 1 0 1 1 1\n",
      " 0 1 0 0 0 1 1 0 0 0 1 1 1 1 1 0 1 0 1 1 1 0 0 1 0 1 0 0 1 0 0 0 0 1 1 0]\n"
     ]
    }
   ],
   "source": [
    "model.fit(X_train,y_train)\n",
    "y_predicted =  model.predict(X_test)\n",
    "print(\"y_predicted: \",y_predicted)\n",
    "y_actual = y_test\n",
    "print(\"y_actual: \",y_actual)"
   ]
  },
  {
   "cell_type": "code",
   "execution_count": 13,
   "id": "2150fbb1",
   "metadata": {},
   "outputs": [
    {
     "name": "stdout",
     "output_type": "stream",
     "text": [
      "0.8967391304347826\n"
     ]
    }
   ],
   "source": [
    "score = metrics.accuracy_score(y_actual,y_predicted)\n",
    "print(score)"
   ]
  }
 ],
 "metadata": {
  "kernelspec": {
   "display_name": "Python 3 (ipykernel)",
   "language": "python",
   "name": "python3"
  },
  "language_info": {
   "codemirror_mode": {
    "name": "ipython",
    "version": 3
   },
   "file_extension": ".py",
   "mimetype": "text/x-python",
   "name": "python",
   "nbconvert_exporter": "python",
   "pygments_lexer": "ipython3",
   "version": "3.9.1"
  }
 },
 "nbformat": 4,
 "nbformat_minor": 5
}
