{
 "cells": [
  {
   "cell_type": "code",
   "execution_count": 1,
   "id": "70a30d44",
   "metadata": {},
   "outputs": [],
   "source": [
    "import pandas as pd\n",
    "from sklearn.model_selection import train_test_split \n",
    "from sklearn.naive_bayes import GaussianNB"
   ]
  },
  {
   "cell_type": "code",
   "execution_count": 2,
   "id": "5dca9acd",
   "metadata": {},
   "outputs": [
    {
     "name": "stdout",
     "output_type": "stream",
     "text": [
      "   PassengerId                                               Name  Pclass  \\\n",
      "0            1                            Braund, Mr. Owen Harris       3   \n",
      "1            2  Cumings, Mrs. John Bradley (Florence Briggs Th...       1   \n",
      "2            3                             Heikkinen, Miss. Laina       3   \n",
      "3            4       Futrelle, Mrs. Jacques Heath (Lily May Peel)       1   \n",
      "4            5                           Allen, Mr. William Henry       3   \n",
      "\n",
      "      Sex   Age  SibSp  Parch            Ticket     Fare Cabin Embarked  \\\n",
      "0    male  22.0      1      0         A/5 21171   7.2500   NaN        S   \n",
      "1  female  38.0      1      0          PC 17599  71.2833   C85        C   \n",
      "2  female  26.0      0      0  STON/O2. 3101282   7.9250   NaN        S   \n",
      "3  female  35.0      1      0            113803  53.1000  C123        S   \n",
      "4    male  35.0      0      0            373450   8.0500   NaN        S   \n",
      "\n",
      "   Survived  \n",
      "0         0  \n",
      "1         1  \n",
      "2         1  \n",
      "3         1  \n",
      "4         0  \n"
     ]
    }
   ],
   "source": [
    "titanic  = pd.read_csv(\"titanic_dataset.csv\")\n",
    "print(titanic.head())"
   ]
  },
  {
   "cell_type": "code",
   "execution_count": 3,
   "id": "6cae2f39",
   "metadata": {},
   "outputs": [
    {
     "name": "stdout",
     "output_type": "stream",
     "text": [
      "   Pclass     Sex   Age     Fare  Survived\n",
      "0       3    male  22.0   7.2500         0\n",
      "1       1  female  38.0  71.2833         1\n",
      "2       3  female  26.0   7.9250         1\n",
      "3       1  female  35.0  53.1000         1\n",
      "4       3    male  35.0   8.0500         0\n"
     ]
    }
   ],
   "source": [
    "titanic.drop(['PassengerId','Name','SibSp','Parch','Ticket','Cabin','Embarked'],axis=\"columns\",inplace=True)\n",
    "print(titanic.head())"
   ]
  },
  {
   "cell_type": "code",
   "execution_count": 4,
   "id": "b9069378",
   "metadata": {},
   "outputs": [
    {
     "name": "stdout",
     "output_type": "stream",
     "text": [
      "     female  male\n",
      "0         0     1\n",
      "1         1     0\n",
      "2         1     0\n",
      "3         1     0\n",
      "4         0     1\n",
      "..      ...   ...\n",
      "886       0     1\n",
      "887       1     0\n",
      "888       1     0\n",
      "889       0     1\n",
      "890       0     1\n",
      "\n",
      "[891 rows x 2 columns]\n"
     ]
    }
   ],
   "source": [
    "sex_dummies = pd.get_dummies(titanic.Sex)\n",
    "print(sex_dummies)"
   ]
  },
  {
   "cell_type": "code",
   "execution_count": 5,
   "id": "1f833638",
   "metadata": {},
   "outputs": [
    {
     "name": "stdout",
     "output_type": "stream",
     "text": [
      "     Pclass   Age     Fare  Survived  female  male\n",
      "0         3  22.0   7.2500         0       0     1\n",
      "1         1  38.0  71.2833         1       1     0\n",
      "2         3  26.0   7.9250         1       1     0\n",
      "3         1  35.0  53.1000         1       1     0\n",
      "4         3  35.0   8.0500         0       0     1\n",
      "..      ...   ...      ...       ...     ...   ...\n",
      "886       2  27.0  13.0000         0       0     1\n",
      "887       1  19.0  30.0000         1       1     0\n",
      "888       3   NaN  23.4500         0       1     0\n",
      "889       1  26.0  30.0000         1       0     1\n",
      "890       3  32.0   7.7500         0       0     1\n",
      "\n",
      "[891 rows x 6 columns]\n"
     ]
    }
   ],
   "source": [
    "merge = pd.concat([titanic,sex_dummies],axis=\"columns\")\n",
    "titanic_final = merge.drop(['Sex'],axis=\"columns\")\n",
    "print(titanic_final)"
   ]
  },
  {
   "cell_type": "code",
   "execution_count": 6,
   "id": "61fb0581",
   "metadata": {},
   "outputs": [
    {
     "name": "stdout",
     "output_type": "stream",
     "text": [
      "     Pclass   Age     Fare  Survived  female  male\n",
      "0         3  22.0   7.2500         0       0     1\n",
      "1         1  38.0  71.2833         1       1     0\n",
      "2         3  26.0   7.9250         1       1     0\n",
      "3         1  35.0  53.1000         1       1     0\n",
      "4         3  35.0   8.0500         0       0     1\n",
      "..      ...   ...      ...       ...     ...   ...\n",
      "886       2  27.0  13.0000         0       0     1\n",
      "887       1  19.0  30.0000         1       1     0\n",
      "888       3  28.0  23.4500         0       1     0\n",
      "889       1  26.0  30.0000         1       0     1\n",
      "890       3  32.0   7.7500         0       0     1\n",
      "\n",
      "[891 rows x 6 columns]\n"
     ]
    }
   ],
   "source": [
    "age_median = titanic_final.Age.median()\n",
    "titanic_final.Age = titanic_final.Age.fillna(age_median)\n",
    "print(titanic_final)"
   ]
  },
  {
   "cell_type": "code",
   "execution_count": 7,
   "id": "592569a2",
   "metadata": {},
   "outputs": [],
   "source": [
    "X = titanic_final[['Pclass','Age','Fare','male','female']].values\n",
    "y = titanic_final['Survived'].values"
   ]
  },
  {
   "cell_type": "code",
   "execution_count": 8,
   "id": "64117ea7",
   "metadata": {},
   "outputs": [],
   "source": [
    "X_train,X_test,y_train,y_test = train_test_split(X,y,train_size=0.98)"
   ]
  },
  {
   "cell_type": "code",
   "execution_count": 9,
   "id": "550d5b1f",
   "metadata": {},
   "outputs": [],
   "source": [
    "model = GaussianNB()"
   ]
  },
  {
   "cell_type": "code",
   "execution_count": 10,
   "id": "bb96f224",
   "metadata": {},
   "outputs": [
    {
     "name": "stdout",
     "output_type": "stream",
     "text": [
      "y_predicted:  [0 0 0 0 1 0 0 0 0 1 0 1 1 1 1 0 0 1]\n",
      "y_actual:    [0 1 0 0 1 0 1 1 0 1 0 1 1 0 0 0 0 1]\n"
     ]
    }
   ],
   "source": [
    "model.fit(X_train,y_train)\n",
    "y_predicted = model.predict(X_test)\n",
    "y_actual =y_test\n",
    "print(\"y_predicted: \",y_predicted)\n",
    "print(\"y_actual:   \",y_actual)"
   ]
  },
  {
   "cell_type": "code",
   "execution_count": 11,
   "id": "43cec209",
   "metadata": {},
   "outputs": [
    {
     "name": "stdout",
     "output_type": "stream",
     "text": [
      "0.7222222222222222\n"
     ]
    }
   ],
   "source": [
    "score = model.score(X_test,y_test)\n",
    "print(score)"
   ]
  }
 ],
 "metadata": {
  "kernelspec": {
   "display_name": "Python 3 (ipykernel)",
   "language": "python",
   "name": "python3"
  },
  "language_info": {
   "codemirror_mode": {
    "name": "ipython",
    "version": 3
   },
   "file_extension": ".py",
   "mimetype": "text/x-python",
   "name": "python",
   "nbconvert_exporter": "python",
   "pygments_lexer": "ipython3",
   "version": "3.9.1"
  }
 },
 "nbformat": 4,
 "nbformat_minor": 5
}
