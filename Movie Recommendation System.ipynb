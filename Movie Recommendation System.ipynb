{
 "cells": [
  {
   "cell_type": "code",
   "execution_count": 1,
   "id": "1a170211",
   "metadata": {},
   "outputs": [],
   "source": [
    "import ast\n",
    "import pickle\n",
    "import pandas as pd\n",
    "from nltk.stem.porter import PorterStemmer\n",
    "from sklearn.feature_extraction.text import CountVectorizer\n",
    "from sklearn.metrics.pairwise import cosine_similarity"
   ]
  },
  {
   "cell_type": "code",
   "execution_count": 2,
   "id": "5435b5ae",
   "metadata": {},
   "outputs": [],
   "source": [
    "import warnings\n",
    "warnings.simplefilter('ignore')"
   ]
  },
  {
   "cell_type": "code",
   "execution_count": 3,
   "id": "52d2620e",
   "metadata": {},
   "outputs": [
    {
     "name": "stdout",
     "output_type": "stream",
     "text": [
      "      budget                                             genres  \\\n",
      "0  237000000  [{\"id\": 28, \"name\": \"Action\"}, {\"id\": 12, \"nam...   \n",
      "1  300000000  [{\"id\": 12, \"name\": \"Adventure\"}, {\"id\": 14, \"...   \n",
      "2  245000000  [{\"id\": 28, \"name\": \"Action\"}, {\"id\": 12, \"nam...   \n",
      "3  250000000  [{\"id\": 28, \"name\": \"Action\"}, {\"id\": 80, \"nam...   \n",
      "4  260000000  [{\"id\": 28, \"name\": \"Action\"}, {\"id\": 12, \"nam...   \n",
      "\n",
      "                                       homepage      id  \\\n",
      "0                   http://www.avatarmovie.com/   19995   \n",
      "1  http://disney.go.com/disneypictures/pirates/     285   \n",
      "2   http://www.sonypictures.com/movies/spectre/  206647   \n",
      "3            http://www.thedarkknightrises.com/   49026   \n",
      "4          http://movies.disney.com/john-carter   49529   \n",
      "\n",
      "                                            keywords original_language  \\\n",
      "0  [{\"id\": 1463, \"name\": \"culture clash\"}, {\"id\":...                en   \n",
      "1  [{\"id\": 270, \"name\": \"ocean\"}, {\"id\": 726, \"na...                en   \n",
      "2  [{\"id\": 470, \"name\": \"spy\"}, {\"id\": 818, \"name...                en   \n",
      "3  [{\"id\": 849, \"name\": \"dc comics\"}, {\"id\": 853,...                en   \n",
      "4  [{\"id\": 818, \"name\": \"based on novel\"}, {\"id\":...                en   \n",
      "\n",
      "                             original_title  \\\n",
      "0                                    Avatar   \n",
      "1  Pirates of the Caribbean: At World's End   \n",
      "2                                   Spectre   \n",
      "3                     The Dark Knight Rises   \n",
      "4                               John Carter   \n",
      "\n",
      "                                            overview  popularity  \\\n",
      "0  In the 22nd century, a paraplegic Marine is di...  150.437577   \n",
      "1  Captain Barbossa, long believed to be dead, ha...  139.082615   \n",
      "2  A cryptic message from Bond’s past sends him o...  107.376788   \n",
      "3  Following the death of District Attorney Harve...  112.312950   \n",
      "4  John Carter is a war-weary, former military ca...   43.926995   \n",
      "\n",
      "                                production_companies  \\\n",
      "0  [{\"name\": \"Ingenious Film Partners\", \"id\": 289...   \n",
      "1  [{\"name\": \"Walt Disney Pictures\", \"id\": 2}, {\"...   \n",
      "2  [{\"name\": \"Columbia Pictures\", \"id\": 5}, {\"nam...   \n",
      "3  [{\"name\": \"Legendary Pictures\", \"id\": 923}, {\"...   \n",
      "4        [{\"name\": \"Walt Disney Pictures\", \"id\": 2}]   \n",
      "\n",
      "                                production_countries release_date     revenue  \\\n",
      "0  [{\"iso_3166_1\": \"US\", \"name\": \"United States o...   2009-12-10  2787965087   \n",
      "1  [{\"iso_3166_1\": \"US\", \"name\": \"United States o...   2007-05-19   961000000   \n",
      "2  [{\"iso_3166_1\": \"GB\", \"name\": \"United Kingdom\"...   2015-10-26   880674609   \n",
      "3  [{\"iso_3166_1\": \"US\", \"name\": \"United States o...   2012-07-16  1084939099   \n",
      "4  [{\"iso_3166_1\": \"US\", \"name\": \"United States o...   2012-03-07   284139100   \n",
      "\n",
      "   runtime                                   spoken_languages    status  \\\n",
      "0    162.0  [{\"iso_639_1\": \"en\", \"name\": \"English\"}, {\"iso...  Released   \n",
      "1    169.0           [{\"iso_639_1\": \"en\", \"name\": \"English\"}]  Released   \n",
      "2    148.0  [{\"iso_639_1\": \"fr\", \"name\": \"Fran\\u00e7ais\"},...  Released   \n",
      "3    165.0           [{\"iso_639_1\": \"en\", \"name\": \"English\"}]  Released   \n",
      "4    132.0           [{\"iso_639_1\": \"en\", \"name\": \"English\"}]  Released   \n",
      "\n",
      "                                          tagline  \\\n",
      "0                     Enter the World of Pandora.   \n",
      "1  At the end of the world, the adventure begins.   \n",
      "2                           A Plan No One Escapes   \n",
      "3                                 The Legend Ends   \n",
      "4            Lost in our world, found in another.   \n",
      "\n",
      "                                      title  vote_average  vote_count  \n",
      "0                                    Avatar           7.2       11800  \n",
      "1  Pirates of the Caribbean: At World's End           6.9        4500  \n",
      "2                                   Spectre           6.3        4466  \n",
      "3                     The Dark Knight Rises           7.6        9106  \n",
      "4                               John Carter           6.1        2124  \n"
     ]
    }
   ],
   "source": [
    "movies = pd.read_csv('tmdb_5000_movies.csv')\n",
    "print(movies.head())"
   ]
  },
  {
   "cell_type": "code",
   "execution_count": 4,
   "id": "cb965f06",
   "metadata": {},
   "outputs": [
    {
     "name": "stdout",
     "output_type": "stream",
     "text": [
      "   movie_id                                     title  \\\n",
      "0     19995                                    Avatar   \n",
      "1       285  Pirates of the Caribbean: At World's End   \n",
      "2    206647                                   Spectre   \n",
      "3     49026                     The Dark Knight Rises   \n",
      "4     49529                               John Carter   \n",
      "\n",
      "                                                cast  \\\n",
      "0  [{\"cast_id\": 242, \"character\": \"Jake Sully\", \"...   \n",
      "1  [{\"cast_id\": 4, \"character\": \"Captain Jack Spa...   \n",
      "2  [{\"cast_id\": 1, \"character\": \"James Bond\", \"cr...   \n",
      "3  [{\"cast_id\": 2, \"character\": \"Bruce Wayne / Ba...   \n",
      "4  [{\"cast_id\": 5, \"character\": \"John Carter\", \"c...   \n",
      "\n",
      "                                                crew  \n",
      "0  [{\"credit_id\": \"52fe48009251416c750aca23\", \"de...  \n",
      "1  [{\"credit_id\": \"52fe4232c3a36847f800b579\", \"de...  \n",
      "2  [{\"credit_id\": \"54805967c3a36829b5002c41\", \"de...  \n",
      "3  [{\"credit_id\": \"52fe4781c3a36847f81398c3\", \"de...  \n",
      "4  [{\"credit_id\": \"52fe479ac3a36847f813eaa3\", \"de...  \n"
     ]
    }
   ],
   "source": [
    "credits = pd.read_csv('tmdb_5000_credits.csv')\n",
    "print(credits.head())"
   ]
  },
  {
   "cell_type": "code",
   "execution_count": 5,
   "id": "12bc816e",
   "metadata": {},
   "outputs": [
    {
     "name": "stdout",
     "output_type": "stream",
     "text": [
      "      budget                                             genres  \\\n",
      "0  237000000  [{\"id\": 28, \"name\": \"Action\"}, {\"id\": 12, \"nam...   \n",
      "1  300000000  [{\"id\": 12, \"name\": \"Adventure\"}, {\"id\": 14, \"...   \n",
      "2  245000000  [{\"id\": 28, \"name\": \"Action\"}, {\"id\": 12, \"nam...   \n",
      "3  250000000  [{\"id\": 28, \"name\": \"Action\"}, {\"id\": 80, \"nam...   \n",
      "4  260000000  [{\"id\": 28, \"name\": \"Action\"}, {\"id\": 12, \"nam...   \n",
      "\n",
      "                                       homepage      id  \\\n",
      "0                   http://www.avatarmovie.com/   19995   \n",
      "1  http://disney.go.com/disneypictures/pirates/     285   \n",
      "2   http://www.sonypictures.com/movies/spectre/  206647   \n",
      "3            http://www.thedarkknightrises.com/   49026   \n",
      "4          http://movies.disney.com/john-carter   49529   \n",
      "\n",
      "                                            keywords original_language  \\\n",
      "0  [{\"id\": 1463, \"name\": \"culture clash\"}, {\"id\":...                en   \n",
      "1  [{\"id\": 270, \"name\": \"ocean\"}, {\"id\": 726, \"na...                en   \n",
      "2  [{\"id\": 470, \"name\": \"spy\"}, {\"id\": 818, \"name...                en   \n",
      "3  [{\"id\": 849, \"name\": \"dc comics\"}, {\"id\": 853,...                en   \n",
      "4  [{\"id\": 818, \"name\": \"based on novel\"}, {\"id\":...                en   \n",
      "\n",
      "                             original_title  \\\n",
      "0                                    Avatar   \n",
      "1  Pirates of the Caribbean: At World's End   \n",
      "2                                   Spectre   \n",
      "3                     The Dark Knight Rises   \n",
      "4                               John Carter   \n",
      "\n",
      "                                            overview  popularity  \\\n",
      "0  In the 22nd century, a paraplegic Marine is di...  150.437577   \n",
      "1  Captain Barbossa, long believed to be dead, ha...  139.082615   \n",
      "2  A cryptic message from Bond’s past sends him o...  107.376788   \n",
      "3  Following the death of District Attorney Harve...  112.312950   \n",
      "4  John Carter is a war-weary, former military ca...   43.926995   \n",
      "\n",
      "                                production_companies  ... runtime  \\\n",
      "0  [{\"name\": \"Ingenious Film Partners\", \"id\": 289...  ...   162.0   \n",
      "1  [{\"name\": \"Walt Disney Pictures\", \"id\": 2}, {\"...  ...   169.0   \n",
      "2  [{\"name\": \"Columbia Pictures\", \"id\": 5}, {\"nam...  ...   148.0   \n",
      "3  [{\"name\": \"Legendary Pictures\", \"id\": 923}, {\"...  ...   165.0   \n",
      "4        [{\"name\": \"Walt Disney Pictures\", \"id\": 2}]  ...   132.0   \n",
      "\n",
      "                                    spoken_languages    status  \\\n",
      "0  [{\"iso_639_1\": \"en\", \"name\": \"English\"}, {\"iso...  Released   \n",
      "1           [{\"iso_639_1\": \"en\", \"name\": \"English\"}]  Released   \n",
      "2  [{\"iso_639_1\": \"fr\", \"name\": \"Fran\\u00e7ais\"},...  Released   \n",
      "3           [{\"iso_639_1\": \"en\", \"name\": \"English\"}]  Released   \n",
      "4           [{\"iso_639_1\": \"en\", \"name\": \"English\"}]  Released   \n",
      "\n",
      "                                          tagline  \\\n",
      "0                     Enter the World of Pandora.   \n",
      "1  At the end of the world, the adventure begins.   \n",
      "2                           A Plan No One Escapes   \n",
      "3                                 The Legend Ends   \n",
      "4            Lost in our world, found in another.   \n",
      "\n",
      "                                      title vote_average vote_count movie_id  \\\n",
      "0                                    Avatar          7.2      11800    19995   \n",
      "1  Pirates of the Caribbean: At World's End          6.9       4500      285   \n",
      "2                                   Spectre          6.3       4466   206647   \n",
      "3                     The Dark Knight Rises          7.6       9106    49026   \n",
      "4                               John Carter          6.1       2124    49529   \n",
      "\n",
      "                                                cast  \\\n",
      "0  [{\"cast_id\": 242, \"character\": \"Jake Sully\", \"...   \n",
      "1  [{\"cast_id\": 4, \"character\": \"Captain Jack Spa...   \n",
      "2  [{\"cast_id\": 1, \"character\": \"James Bond\", \"cr...   \n",
      "3  [{\"cast_id\": 2, \"character\": \"Bruce Wayne / Ba...   \n",
      "4  [{\"cast_id\": 5, \"character\": \"John Carter\", \"c...   \n",
      "\n",
      "                                                crew  \n",
      "0  [{\"credit_id\": \"52fe48009251416c750aca23\", \"de...  \n",
      "1  [{\"credit_id\": \"52fe4232c3a36847f800b579\", \"de...  \n",
      "2  [{\"credit_id\": \"54805967c3a36829b5002c41\", \"de...  \n",
      "3  [{\"credit_id\": \"52fe4781c3a36847f81398c3\", \"de...  \n",
      "4  [{\"credit_id\": \"52fe479ac3a36847f813eaa3\", \"de...  \n",
      "\n",
      "[5 rows x 23 columns]\n"
     ]
    }
   ],
   "source": [
    "merged_dataset = movies.merge(credits,on='title')\n",
    "print(merged_dataset.head())"
   ]
  },
  {
   "cell_type": "code",
   "execution_count": 6,
   "id": "dac663ac",
   "metadata": {},
   "outputs": [
    {
     "name": "stdout",
     "output_type": "stream",
     "text": [
      "(4809, 23)\n"
     ]
    }
   ],
   "source": [
    "print(merged_dataset.shape)"
   ]
  },
  {
   "cell_type": "code",
   "execution_count": 7,
   "id": "f0e4ab0b",
   "metadata": {},
   "outputs": [
    {
     "name": "stdout",
     "output_type": "stream",
     "text": [
      "<class 'pandas.core.frame.DataFrame'>\n",
      "Int64Index: 4809 entries, 0 to 4808\n",
      "Data columns (total 7 columns):\n",
      " #   Column    Non-Null Count  Dtype \n",
      "---  ------    --------------  ----- \n",
      " 0   movie_id  4809 non-null   int64 \n",
      " 1   title     4809 non-null   object\n",
      " 2   overview  4806 non-null   object\n",
      " 3   genres    4809 non-null   object\n",
      " 4   keywords  4809 non-null   object\n",
      " 5   cast      4809 non-null   object\n",
      " 6   crew      4809 non-null   object\n",
      "dtypes: int64(1), object(6)\n",
      "memory usage: 300.6+ KB\n",
      "None\n"
     ]
    }
   ],
   "source": [
    "movies_dataset = merged_dataset[['movie_id','title','overview','genres','keywords','cast','crew']]\n",
    "print(movies_dataset.info())"
   ]
  },
  {
   "cell_type": "code",
   "execution_count": 8,
   "id": "0bf34c7f",
   "metadata": {},
   "outputs": [
    {
     "data": {
      "text/plain": [
       "movie_id    0\n",
       "title       0\n",
       "overview    3\n",
       "genres      0\n",
       "keywords    0\n",
       "cast        0\n",
       "crew        0\n",
       "dtype: int64"
      ]
     },
     "execution_count": 8,
     "metadata": {},
     "output_type": "execute_result"
    }
   ],
   "source": [
    "movies_dataset.isnull().sum()"
   ]
  },
  {
   "cell_type": "code",
   "execution_count": 9,
   "id": "797771f3",
   "metadata": {},
   "outputs": [],
   "source": [
    "movies_dataset.dropna(inplace=True)\n"
   ]
  },
  {
   "cell_type": "code",
   "execution_count": 10,
   "id": "1fcd2d43",
   "metadata": {},
   "outputs": [
    {
     "name": "stdout",
     "output_type": "stream",
     "text": [
      "movie_id    0\n",
      "title       0\n",
      "overview    0\n",
      "genres      0\n",
      "keywords    0\n",
      "cast        0\n",
      "crew        0\n",
      "dtype: int64\n"
     ]
    }
   ],
   "source": [
    "print(movies_dataset.isnull().sum())"
   ]
  },
  {
   "cell_type": "code",
   "execution_count": 11,
   "id": "1b5948d5",
   "metadata": {},
   "outputs": [
    {
     "name": "stdout",
     "output_type": "stream",
     "text": [
      "0\n"
     ]
    }
   ],
   "source": [
    "print(movies_dataset.duplicated().sum())"
   ]
  },
  {
   "cell_type": "code",
   "execution_count": 12,
   "id": "d7c280f5",
   "metadata": {},
   "outputs": [],
   "source": [
    "def convert1(obj):\n",
    "    list1 = []\n",
    "    for dict in ast.literal_eval(obj):\n",
    "        list1.append(dict['name'])\n",
    "    return list1"
   ]
  },
  {
   "cell_type": "code",
   "execution_count": 13,
   "id": "2dfe7bf7",
   "metadata": {},
   "outputs": [],
   "source": [
    "movies_dataset['genres'] = movies_dataset['genres'].apply(convert1)\n",
    "movies_dataset['keywords'] = movies_dataset['keywords'].apply(convert1)"
   ]
  },
  {
   "cell_type": "code",
   "execution_count": 14,
   "id": "eea1376c",
   "metadata": {},
   "outputs": [],
   "source": [
    "def convert2(obj):\n",
    "    list1 = []\n",
    "    counter=3\n",
    "    for dict in ast.literal_eval(obj):\n",
    "        list1.append(dict['name'])\n",
    "        if(counter==0):\n",
    "            break\n",
    "        counter -= 1\n",
    "    return list1"
   ]
  },
  {
   "cell_type": "code",
   "execution_count": 15,
   "id": "112a7f90",
   "metadata": {},
   "outputs": [],
   "source": [
    "movies_dataset['cast'] = movies_dataset['cast'].apply(convert2)"
   ]
  },
  {
   "cell_type": "code",
   "execution_count": 16,
   "id": "8ac98df1",
   "metadata": {},
   "outputs": [],
   "source": [
    "def convert3(obj):\n",
    "    list1 = []\n",
    "    for dict in ast.literal_eval(obj):\n",
    "        if(dict['job']=='Director'):\n",
    "            list1.append(dict['name'])\n",
    "            break\n",
    "    return list1"
   ]
  },
  {
   "cell_type": "code",
   "execution_count": 17,
   "id": "0c826303",
   "metadata": {},
   "outputs": [],
   "source": [
    "movies_dataset['crew'] = movies_dataset['crew'].apply(convert3)"
   ]
  },
  {
   "cell_type": "code",
   "execution_count": 18,
   "id": "ec8fa00e",
   "metadata": {},
   "outputs": [],
   "source": [
    "movies_dataset['overview'] = movies_dataset['overview'].apply(lambda x:x.split())"
   ]
  },
  {
   "cell_type": "code",
   "execution_count": 19,
   "id": "5087e489",
   "metadata": {},
   "outputs": [
    {
     "name": "stdout",
     "output_type": "stream",
     "text": [
      "0       [Action, Adventure, Fantasy, ScienceFiction]\n",
      "1                       [Adventure, Fantasy, Action]\n",
      "2                         [Action, Adventure, Crime]\n",
      "3                   [Action, Crime, Drama, Thriller]\n",
      "4                [Action, Adventure, ScienceFiction]\n",
      "                            ...                     \n",
      "4804                       [Action, Crime, Thriller]\n",
      "4805                               [Comedy, Romance]\n",
      "4806               [Comedy, Drama, Romance, TVMovie]\n",
      "4807                                              []\n",
      "4808                                   [Documentary]\n",
      "Name: genres, Length: 4806, dtype: object\n"
     ]
    }
   ],
   "source": [
    "movies_dataset['genres'] = movies_dataset['genres'].apply(lambda x:[item.replace(\" \",\"\") for item in x])\n",
    "print(movies_dataset['genres'])"
   ]
  },
  {
   "cell_type": "code",
   "execution_count": 20,
   "id": "019430c8",
   "metadata": {},
   "outputs": [
    {
     "name": "stdout",
     "output_type": "stream",
     "text": [
      "0       [cultureclash, future, spacewar, spacecolony, ...\n",
      "1       [ocean, drugabuse, exoticisland, eastindiatrad...\n",
      "2       [spy, basedonnovel, secretagent, sequel, mi6, ...\n",
      "3       [dccomics, crimefighter, terrorist, secretiden...\n",
      "4       [basedonnovel, mars, medallion, spacetravel, p...\n",
      "                              ...                        \n",
      "4804    [unitedstates–mexicobarrier, legs, arms, paper...\n",
      "4805                                                   []\n",
      "4806    [date, loveatfirstsight, narration, investigat...\n",
      "4807                                                   []\n",
      "4808             [obsession, camcorder, crush, dreamgirl]\n",
      "Name: keywords, Length: 4806, dtype: object\n"
     ]
    }
   ],
   "source": [
    "movies_dataset['keywords'] = movies_dataset['keywords'].apply(lambda x:[item.replace(\" \",\"\") for item in x])\n",
    "print(movies_dataset['keywords'])"
   ]
  },
  {
   "cell_type": "code",
   "execution_count": 21,
   "id": "9e21d538",
   "metadata": {},
   "outputs": [
    {
     "name": "stdout",
     "output_type": "stream",
     "text": [
      "0       [SamWorthington, ZoeSaldana, SigourneyWeaver, ...\n",
      "1       [JohnnyDepp, OrlandoBloom, KeiraKnightley, Ste...\n",
      "2       [DanielCraig, ChristophWaltz, LéaSeydoux, Ralp...\n",
      "3       [ChristianBale, MichaelCaine, GaryOldman, Anne...\n",
      "4       [TaylorKitsch, LynnCollins, SamanthaMorton, Wi...\n",
      "                              ...                        \n",
      "4804    [CarlosGallardo, JaimedeHoyos, PeterMarquardt,...\n",
      "4805    [EdwardBurns, KerryBishé, MarshaDietlein, Cait...\n",
      "4806    [EricMabius, KristinBooth, CrystalLowe, GeoffG...\n",
      "4807     [DanielHenney, ElizaCoupe, BillPaxton, AlanRuck]\n",
      "4808    [DrewBarrymore, BrianHerzlinger, CoreyFeldman,...\n",
      "Name: cast, Length: 4806, dtype: object\n"
     ]
    }
   ],
   "source": [
    "movies_dataset['cast'] = movies_dataset['cast'].apply(lambda x:[item.replace(\" \",\"\") for item in x])\n",
    "print(movies_dataset['cast'])"
   ]
  },
  {
   "cell_type": "code",
   "execution_count": 22,
   "id": "69f0b4b2",
   "metadata": {},
   "outputs": [
    {
     "name": "stdout",
     "output_type": "stream",
     "text": [
      "0           [JamesCameron]\n",
      "1          [GoreVerbinski]\n",
      "2              [SamMendes]\n",
      "3       [ChristopherNolan]\n",
      "4          [AndrewStanton]\n",
      "               ...        \n",
      "4804     [RobertRodriguez]\n",
      "4805         [EdwardBurns]\n",
      "4806          [ScottSmith]\n",
      "4807          [DanielHsia]\n",
      "4808     [BrianHerzlinger]\n",
      "Name: crew, Length: 4806, dtype: object\n"
     ]
    }
   ],
   "source": [
    "movies_dataset['crew'] = movies_dataset['crew'].apply(lambda x:[item.replace(\" \",\"\") for item in x])\n",
    "print(movies_dataset['crew'])"
   ]
  },
  {
   "cell_type": "code",
   "execution_count": 23,
   "id": "ee052d0e",
   "metadata": {},
   "outputs": [
    {
     "name": "stdout",
     "output_type": "stream",
     "text": [
      "['In', 'the', '22nd', 'century,', 'a', 'paraplegic', 'Marine', 'is', 'dispatched', 'to', 'the', 'moon', 'Pandora', 'on', 'a', 'unique', 'mission,', 'but', 'becomes', 'torn', 'between', 'following', 'orders', 'and', 'protecting', 'an', 'alien', 'civilization.', 'Action', 'Adventure', 'Fantasy', 'ScienceFiction', 'cultureclash', 'future', 'spacewar', 'spacecolony', 'society', 'spacetravel', 'futuristic', 'romance', 'space', 'alien', 'tribe', 'alienplanet', 'cgi', 'marine', 'soldier', 'battle', 'loveaffair', 'antiwar', 'powerrelations', 'mindandsoul', '3d', 'SamWorthington', 'ZoeSaldana', 'SigourneyWeaver', 'StephenLang', 'JamesCameron']\n"
     ]
    }
   ],
   "source": [
    "movies_dataset['tags'] = movies_dataset['overview'] + movies_dataset['genres'] + movies_dataset['keywords'] + movies_dataset['cast'] + movies_dataset['crew']\n",
    "print(movies_dataset['tags'].values[0])"
   ]
  },
  {
   "cell_type": "code",
   "execution_count": 24,
   "id": "7e05d24a",
   "metadata": {},
   "outputs": [],
   "source": [
    "movies_new_dataset = movies_dataset[['movie_id','title','tags']]"
   ]
  },
  {
   "cell_type": "code",
   "execution_count": 25,
   "id": "5c3268d6",
   "metadata": {},
   "outputs": [],
   "source": [
    "movies_new_dataset['tags'] = movies_new_dataset['tags'].apply(lambda x:\" \".join(x))"
   ]
  },
  {
   "cell_type": "code",
   "execution_count": 26,
   "id": "aae94a99",
   "metadata": {},
   "outputs": [],
   "source": [
    "movies_new_dataset['tags'] = movies_new_dataset['tags'].apply(lambda x:x.lower())"
   ]
  },
  {
   "cell_type": "code",
   "execution_count": 27,
   "id": "071bf628",
   "metadata": {},
   "outputs": [
    {
     "name": "stdout",
     "output_type": "stream",
     "text": [
      "in the 22nd century, a paraplegic marine is dispatched to the moon pandora on a unique mission, but becomes torn between following orders and protecting an alien civilization. action adventure fantasy sciencefiction cultureclash future spacewar spacecolony society spacetravel futuristic romance space alien tribe alienplanet cgi marine soldier battle loveaffair antiwar powerrelations mindandsoul 3d samworthington zoesaldana sigourneyweaver stephenlang jamescameron\n"
     ]
    }
   ],
   "source": [
    "print(movies_new_dataset['tags'].values[0])"
   ]
  },
  {
   "cell_type": "code",
   "execution_count": 28,
   "id": "7e09e3ec",
   "metadata": {},
   "outputs": [],
   "source": [
    "ps = PorterStemmer()"
   ]
  },
  {
   "cell_type": "code",
   "execution_count": 29,
   "id": "e8ca47b1",
   "metadata": {},
   "outputs": [],
   "source": [
    "def stemming(text):\n",
    "    list2=[]\n",
    "    for word in text.split():\n",
    "        list2.append(ps.stem(word))\n",
    "    return \" \".join(list2)"
   ]
  },
  {
   "cell_type": "code",
   "execution_count": 30,
   "id": "aaee6cbb",
   "metadata": {},
   "outputs": [
    {
     "name": "stdout",
     "output_type": "stream",
     "text": [
      "in the 22nd century, a parapleg marin is dispatch to the moon pandora on a uniqu mission, but becom torn between follow order and protect an alien civilization. action adventur fantasi sciencefict cultureclash futur spacewar spacecoloni societi spacetravel futurist romanc space alien tribe alienplanet cgi marin soldier battl loveaffair antiwar powerrel mindandsoul 3d samworthington zoesaldana sigourneyweav stephenlang jamescameron\n"
     ]
    }
   ],
   "source": [
    "movies_new_dataset['tags'] = movies_new_dataset['tags'].apply(stemming)\n",
    "print(movies_new_dataset['tags'].values[0])"
   ]
  },
  {
   "cell_type": "code",
   "execution_count": 31,
   "id": "7043145a",
   "metadata": {},
   "outputs": [],
   "source": [
    "cv = CountVectorizer(max_features=4000,stop_words='english')\n",
    "vectors = cv.fit_transform(movies_new_dataset['tags']).toarray()"
   ]
  },
  {
   "cell_type": "code",
   "execution_count": 32,
   "id": "51668a5e",
   "metadata": {},
   "outputs": [
    {
     "name": "stdout",
     "output_type": "stream",
     "text": [
      "[0 0 0 ... 0 0 0]\n"
     ]
    }
   ],
   "source": [
    "print(vectors[0])"
   ]
  },
  {
   "cell_type": "code",
   "execution_count": 33,
   "id": "b493293f",
   "metadata": {},
   "outputs": [
    {
     "name": "stdout",
     "output_type": "stream",
     "text": [
      "['000', '007', '10', '100', '11', '12', '13', '14', '15', '16', '17', '18', '18th', '19', '1910', '1930', '1940', '1950', '1960', '1960s', '1970', '1970s', '1980', '1990', '19th', '19thcenturi', '20', '200', '20th', '24', '25', '30', '3d', '40', '50', '60', '70', 'aaron', 'aaroneckhart', 'abandon', 'abduct', 'abigailbreslin', 'abil', 'abl', 'aboard', 'abov', 'abus', 'academi', 'accept', 'access', 'accid', 'accident', 'accompani', 'accomplish', 'account', 'accus', 'ace', 'achiev', 'act', 'action', 'activ', 'activist', 'actor', 'actress', 'actual', 'adam', 'adamsandl', 'adapt', 'add', 'addict', 'adjust', 'admir', 'admit', 'adolesc', 'adopt', 'ador', 'adrienbrodi', 'adult', 'adulteri', 'adulthood', 'advanc', 'adventur', 'adventure', 'advertis', 'advic', 'advis', 'affair', 'affect', 'afghanistan', 'africa', 'african', 'africanamerican', 'aftercreditssting', 'afterlif', 'aftermath', 'ag', 'age', 'agediffer', 'agency', 'agenda', 'agent', 'aggress', 'ago', 'agre', 'ahead', 'aid', 'ail', 'aim', 'air', 'airplan', 'airport', 'aka', 'al', 'alabama', 'alanarkin', 'alaska', 'albert', 'alcohol', 'alecbaldwin', 'alex', 'alfredmolina', 'ali', 'alic', 'alice', 'alien', 'alieninvas', 'alienlife', 'aliv', 'alive', 'allen', 'alli', 'allianc', 'allow', 'alon', 'alongsid', 'alpacino', 'alreadi', 'alter', 'altern', 'alway', 'alzheimer', 'amanda', 'amandapeet', 'amandaseyfri', 'amateur', 'amaz', 'ambassador', 'ambit', 'ambiti', 'ambul', 'ambush', 'america', 'american', 'americanfootbal', 'amid', 'amidst', 'amnesia', 'amp', 'amus', 'amusementpark', 'amyadam', 'amysmart', 'analyst', 'anarchiccomedi', 'ancient', 'ancientrom', 'ancientworld', 'anderson', 'andi', 'andrew', 'android', 'andygarcía', 'angel', 'angelabassett', 'angeles', 'angelinajoli', 'anger', 'angle', 'angri', 'ani', 'anim', 'animalattack', 'animalhorror', 'animals', 'ann', 'anna', 'annafari', 'annakendrick', 'annehathaway', 'annemoss', 'annetteben', 'anni', 'announc', 'annual', 'anonym', 'anoth', 'answer', 'ant', 'antholog', 'anthoni', 'anthonyanderson', 'anthonyhopkin', 'anthonymacki', 'anthropomorph', 'anti', 'antihero', 'antoniobandera', 'antonyelchin', 'anyon', 'anyth', 'apart', 'apartheid', 'apartment', 'ape', 'apocalyps', 'apocalypt', 'appar', 'appear', 'appoint', 'appreci', 'apprentic', 'approach', 'april', 'arab', 'archaeologist', 'architect', 'arctic', 'area', 'arena', 'argument', 'aris', 'aristocrat', 'arm', 'armi', 'armsdeal', 'army', 'arnold', 'arnoldschwarzenegg', 'arrang', 'arrest', 'arriv', 'art', 'arthur', 'artificialintellig', 'artist', 'ash', 'ashley', 'ashleyjudd', 'ashtonkutch', 'asia', 'ask', 'aspir', 'assassin', 'assault', 'assign', 'assist', 'assistant', 'associ', 'assum', 'asteroid', 'astronaut', 'asylum', 'athlet', 'atomicbomb', 'attack', 'attempt', 'attend', 'attent', 'attitud', 'attorney', 'attract', 'audienc', 'audit', 'august', 'aunt', 'austin', 'australia', 'australian', 'author', 'autism', 'auto', 'aveng', 'avoid', 'await', 'awaken', 'award', 'away', 'awkward', 'awri', 'awry', 'babe', 'babi', 'baby', 'bachelor', 'backdrop', 'background', 'bad', 'bag', 'bahama', 'bail', 'balanc', 'ball', 'ballet', 'band', 'bandit', 'banish', 'bank', 'banker', 'bankrobberi', 'bar', 'bare', 'bargain', 'barn', 'barney', 'barri', 'barrylevinson', 'bas', 'base', 'basebal', 'basedoncomicbook', 'basedongraphicnovel', 'basedonnovel', 'basedonplay', 'basedonstagemus', 'basedontrueev', 'basedontruestori', 'basedontvseri', 'basedonvideogam', 'basedonyoungadultnovel', 'basement', 'basketbal', 'batman', 'battl', 'battle', 'battlefield', 'bay', 'beach', 'bear', 'beast', 'beat', 'beauti', 'beautiful', 'beautifulwoman', 'beauty', 'becam', 'becaus', 'becom', 'becominganadult', 'bed', 'bedroom', 'beer', 'befor', 'befriend', 'began', 'begin', 'behavior', 'belief', 'believ', 'bell', 'bella', 'belong', 'belov', 'ben', 'benaffleck', 'bend', 'benfost', 'beniciodeltoro', 'benjamin', 'benjaminbratt', 'benkingsley', 'bennett', 'benstil', 'bent', 'berlin', 'best', 'bestfriend', 'bet', 'beth', 'betray', 'bettemidl', 'better', 'betti', 'beverli', 'bibl', 'big', 'bigger', 'biggest', 'biker', 'bikini', 'billhad', 'billi', 'billionair', 'billmurray', 'billnighi', 'billpaxton', 'billpullman', 'billybobthornton', 'billycrudup', 'biographi', 'bird', 'birth', 'birthday', 'bisexu', 'bishop', 'bit', 'bite', 'bitter', 'bizarr', 'black', 'blackmag', 'blackmail', 'blackpeopl', 'blade', 'blame', 'blind', 'bliss', 'block', 'blond', 'blood', 'bloodi', 'bloodsplatt', 'bloodthirsti', 'blow', 'blue', 'board', 'boat', 'bob', 'bobbi', 'bobbyfarrelli', 'bobhoskin', 'bodi', 'body', 'bodyguard', 'bold', 'bollywood', 'bomb', 'bond', 'bone', 'book', 'border', 'bore', 'boredom', 'born', 'boss', 'boston', 'bound', 'bounti', 'bountyhunt', 'box', 'boxer', 'boy', 'boyfriend', 'boys', 'bradleycoop', 'bradpitt', 'brain', 'brand', 'brave', 'braveri', 'brazil', 'brazilian', 'break', 'breckinmey', 'breed', 'brendanfras', 'brendangleeson', 'brettratn', 'brian', 'briancox', 'briandepalma', 'bride', 'bridesmaid', 'bridg', 'brief', 'brien', 'brilliant', 'bring', 'brink', 'britain', 'british', 'britishsecretservic', 'brittanymurphi', 'broadcast', 'broadway', 'broke', 'broken', 'broker', 'brook', 'brooklyn', 'brothel', 'brother', 'brotherbrotherrelationship', 'brothers', 'brothersisterrelationship', 'brought', 'brown', 'bruce', 'brucegreenwood', 'brucewilli', 'brutal', 'bu', 'buck', 'bud', 'buddi', 'buddycomedi', 'budget', 'build', 'building', 'built', 'bullet', 'bulli', 'bumbl', 'burglar', 'buri', 'burn', 'bush', 'busi', 'business', 'businessman', 'bust', 'butler', 'buy', 'cabin', 'caesar', 'cage', 'cairo', 'cal', 'california', 'calvin', 'camcord', 'came', 'camera', 'cameraman', 'camerondiaz', 'camgigandet', 'camp', 'campaign', 'campu', 'canada', 'canadian', 'cancer', 'candid', 'cannib', 'capabl', 'capit', 'captain', 'captiv', 'captur', 'car', 'caraccid', 'carchas', 'carcrash', 'card', 'care', 'career', 'caribbean', 'carjourney', 'carl', 'carlagugino', 'carmen', 'carol', 'carrac', 'carri', 'carrie', 'cartel', 'carter', 'caryelw', 'case', 'caseyaffleck', 'cash', 'casino', 'cast', 'castl', 'cat', 'cataclysm', 'catastroph', 'catch', 'cateblanchett', 'catherinekeen', 'catherinezeta', 'cathol', 'catholic', 'caught', 'caus', 'cave', 'cedrictheentertain', 'celebr', 'cellphon', 'cemeteri', 'center', 'central', 'centuri', 'centuries', 'century', 'certain', 'chain', 'chainsaw', 'challeng', 'champion', 'championship', 'chanc', 'chance', 'chang', 'channingtatum', 'chao', 'chaos', 'chapter', 'charact', 'character', 'characters', 'charg', 'charismat', 'charl', 'charless', 'charli', 'charlie', 'charliesheen', 'charlizetheron', 'charm', 'chase', 'chazzpalminteri', 'cheat', 'check', 'cheerlead', 'chef', 'chemic', 'chicago', 'chicken', 'chief', 'child', 'childabus', 'childhood', 'children', 'chill', 'china', 'chines', 'chip', 'chloëgracemoretz', 'chloësevigni', 'chocol', 'choic', 'choos', 'chosen', 'chri', 'chriscolumbu', 'chriscoop', 'chrisevan', 'chrishemsworth', 'chrispin', 'chrisrock', 'christ', 'christian', 'christianbal', 'christianslat', 'christinaappleg', 'christinaricci', 'christma', 'christmas', 'christmasparti', 'christoph', 'christopherlloyd', 'christopherplumm', 'christopherwalken', 'chronicl', 'church', 'cia', 'cillianmurphi', 'cinema', 'circl', 'circu', 'circumst', 'citi', 'citizen', 'city', 'civil', 'civilian', 'civilwar', 'claim', 'clair', 'clairedan', 'claireforlani', 'clan', 'clark', 'clash', 'class', 'classic', 'classmat', 'classroom', 'claudevandamm', 'clean', 'clear', 'clerk', 'client', 'climat', 'climb', 'clinteastwood', 'cliveowen', 'clock', 'clone', 'close', 'closer', 'clown', 'club', 'clue', 'clutch', 'coach', 'coast', 'cocain', 'code', 'coffin', 'col', 'cold', 'coldwar', 'cole', 'colinfarrel', 'colinfirth', 'collaps', 'colleagu', 'collect', 'collector', 'colleg', 'college', 'collid', 'collis', 'colonel', 'coloni', 'color', 'colorado', 'coma', 'combat', 'combin', 'come', 'comeback', 'comed', 'comedi', 'comedian', 'comedy', 'comfort', 'comic', 'coming', 'comingofag', 'comingout', 'command', 'commando', 'commerci', 'commit', 'common', 'commun', 'community', 'compani', 'companion', 'company', 'compet', 'competit', 'competition', 'complet', 'complex', 'complic', 'compos', 'comput', 'conan', 'concern', 'concert', 'condit', 'confess', 'confid', 'conflict', 'confront', 'confus', 'congress', 'conman', 'connect', 'connel', 'connor', 'conquer', 'consequ', 'consequences', 'consid', 'conspir', 'conspiraci', 'constant', 'constantli', 'construct', 'consum', 'contact', 'contain', 'contemporari', 'contend', 'contest', 'continu', 'contract', 'control', 'controversi', 'convent', 'convict', 'convinc', 'cook', 'cool', 'cooper', 'cop', 'cope', 'core', 'corner', 'corpor', 'corps', 'corrupt', 'cost', 'costum', 'couldn', 'count', 'countri', 'country', 'countrysid', 'coup', 'coupl', 'couple', 'courag', 'cours', 'court', 'courtcas', 'courteneycox', 'courtroom', 'cousin', 'cover', 'covert', 'cowardli', 'cowboy', 'crack', 'craft', 'craig', 'crash', 'crazi', 'creat', 'creation', 'creativ', 'creator', 'creatur', 'creatures', 'credit', 'crew', 'crime', 'crimefight', 'crimin', 'criminals', 'crisi', 'crisis', 'critic', 'crocodil', 'crook', 'cross', 'crowd', 'crown', 'cruel', 'cruis', 'crusad', 'crush', 'crystal', 'cuba', 'cubagoodingjr', 'cult', 'cultfilm', 'cultur', 'cultureclash', 'cup', 'cure', 'current', 'curs', 'curse', 'custodi', 'custom', 'cut', 'cyberpunk', 'cyborg', 'cynic', 'dad', 'daili', 'dakotafan', 'damag', 'dan', 'danaykroyd', 'danc', 'dancer', 'danger', 'daniel', 'danielcraig', 'danni', 'danny', 'dannydevito', 'dannyglov', 'dannyhuston', 'dare', 'dark', 'darkcomedi', 'darkest', 'darylhannah', 'dash', 'date', 'daughter', 'dave', 'davi', 'david', 'davidarquett', 'davidduchovni', 'davidfinch', 'davidmors', 'davidstrathairn', 'davidthewli', 'day', 'days', 'dccomic', 'dea', 'dead', 'deadli', 'deaf', 'deal', 'dealer', 'dean', 'death', 'deathofafriend', 'deathpenalti', 'debt', 'debut', 'decad', 'decapit', 'deceas', 'deceit', 'decept', 'decid', 'decis', 'declar', 'dedic', 'deed', 'deep', 'deeper', 'deepli', 'defeat', 'defend', 'defens', 'defi', 'deliv', 'delroylindo', 'delus', 'demand', 'demimoor', 'demon', 'demonicpossess', 'demons', 'deni', 'dennisdugan', 'dennishopp', 'dennisquaid', 'dentist', 'denzelwashington', 'depart', 'depict', 'depress', 'deputi', 'derang', 'derek', 'dermotmulroney', 'descend', 'desert', 'design', 'desir', 'desol', 'despair', 'desper', 'despit', 'destin', 'destini', 'destiny', 'destroy', 'destroyed', 'destruct', 'destruction', 'detect', 'detective', 'determin', 'detroit', 'devast', 'develop', 'devic', 'devil', 'devis', 'devot', 'diabol', 'dialogu', 'diamond', 'dianekeaton', 'dianekrug', 'dianelan', 'diari', 'dick', 'dictat', 'did', 'didn', 'die', 'diego', 'dies', 'differ', 'difficult', 'dig', 'diner', 'dinner', 'dinosaur', 'dire', 'direct', 'director', 'dirti', 'dirtycop', 'disabl', 'disappear', 'disast', 'disaster', 'discov', 'discoveri', 'diseas', 'disease', 'disfigur', 'disgrac', 'disguis', 'disney', 'disord', 'dispatch', 'disrupt', 'distant', 'district', 'disturb', 'diva', 'dive', 'divid', 'divis', 'divorc', 'divorce', 'dna', 'doc', 'doctor', 'document', 'documentari', 'doe', 'doesn', 'dog', 'doll', 'dollar', 'dolphin', 'domest', 'domin', 'don', 'donaldsutherland', 'doncheadl', 'donnel', 'doom', 'door', 'doubl', 'double', 'doublelif', 'doubt', 'doug', 'dr', 'dracula', 'drag', 'dragon', 'drama', 'dramat', 'draw', 'drawn', 'dread', 'dream', 'dreams', 'dress', 'drewbarrymor', 'drifter', 'drink', 'drive', 'driven', 'driver', 'drop', 'drown', 'drug', 'drugabus', 'drugaddict', 'drugdeal', 'druglord', 'drugs', 'drugsmuggl', 'drugtraff', 'drunk', 'drunken', 'du', 'dualident', 'dude', 'duel', 'duke', 'dump', 'duo', 'dure', 'duringcreditssting', 'dustinhoffman', 'dutch', 'duti', 'dutton', 'dwaynejohnson', 'dyinganddeath', 'dylan', 'dynam', 'dysfunctionalfamili', 'dystopia', 'dystopicfutur', 'eager', 'earli', 'earlier', 'earn', 'earth', 'earthquak', 'easi', 'east', 'eat', 'eccentr', 'econom', 'economi', 'eddi', 'eddiemurphi', 'edg', 'edharri', 'editor', 'educ', 'edward', 'edwardburn', 'edwardnorton', 'effect', 'effort', 'egg', 'ego', 'egypt', 'el', 'elabor', 'elderli', 'elect', 'element', 'elev', 'eliaskotea', 'elijahwood', 'elimin', 'elisabethshu', 'elit', 'elizabeth', 'elizabethbank', 'ella', 'elli', 'els', 'elud', 'elus', 'elv', 'elvi', 'embark', 'embroil', 'emerg', 'emigr', 'emilehirsch', 'emili', 'emilyblunt', 'emilymortim', 'emilywatson', 'emma', 'emmarobert', 'emmaston', 'emmathompson', 'emmawatson', 'emot', 'emperor', 'empire', 'employ', 'employe', 'encount', 'encourag', 'end', 'endoftheworld', 'endur', 'enemi', 'enemies', 'enemy', 'energi', 'enforc', 'engag', 'engin', 'england', 'english', 'enigmat', 'enjoy', 'enlist', 'ensemblecast', 'ensu', 'ensues', 'ensur', 'entangl', 'enter', 'enterpris', 'entertain', 'entir', 'entiti', 'environ', 'environment', 'epic', 'epidem', 'episod', 'equal', 'era', 'eric', 'ericbana', 'erin', 'ernest', 'erotic', 'erupt', 'escap', 'escapad', 'escape', 'escort', 'especi', 'espionag', 'establish', 'estat', 'estrang', 'etern', 'ethan', 'ethanhawk', 'ethic', 'eugenelevi', 'europ', 'european', 'eva', 'evacu', 'evad', 'evamend', 'eve', 'event', 'events', 'eventu', 'everi', 'everybodi', 'everyday', 'everyon', 'everyth', 'evid', 'evil', 'evolut', 'evolv', 'ewanmcgregor', 'ex', 'exact', 'exactli', 'examin', 'exchang', 'excit', 'execut', 'exist', 'existence', 'existenti', 'exorc', 'exot', 'exoticisland', 'expect', 'expected', 'expedit', 'experi', 'experienc', 'experiment', 'expert', 'explain', 'explod', 'exploit', 'explor', 'explos', 'expos', 'extramaritalaffair', 'extraordinari', 'extraterrestri', 'extraterrestrialtechnolog', 'extrem', 'extremeviol', 'eye', 'fabl', 'fac', 'face', 'fact', 'factori', 'fade', 'fail', 'fairi', 'fairytal', 'faith', 'fake', 'fall', 'fallen', 'fallinginlov', 'falseident', 'fame', 'famili', 'families', 'family', 'familyrelationship', 'famkejanssen', 'famou', 'fan', 'fangvamp', 'fantasi', 'fantast', 'fantasyworld', 'far', 'farm', 'farmer', 'fascin', 'fashion', 'fast', 'fat', 'fatal', 'fate', 'father', 'fatherdaughterrelationship', 'fathersonrelationship', 'favor', 'favorit', 'fbi', 'fbiagent', 'fear', 'fearsom', 'featur', 'feder', 'feel', 'feet', 'fellow', 'femal', 'female', 'femalefriendship', 'femalenud', 'femaleprotagonist', 'fend', 'festiv', 'fi', 'fiancé', 'fiction', 'fictionalplac', 'field', 'fierc', 'fight', 'fighter', 'figur', 'file', 'film', 'filmdirector', 'filmmak', 'filmproduc', 'films', 'final', 'financ', 'financi', 'finish', 'firm', 'fish', 'fisherman', 'fistfight', 'fit', 'fix', 'flashback', 'flat', 'flee', 'flesh', 'fli', 'flight', 'fling', 'flirt', 'flood', 'florida', 'flower', 'flyingsauc', 'focu', 'focus', 'foil', 'folk', 'follow', 'food', 'foot', 'footag', 'footbal', 'footchas', 'forbidden', 'forbiddenlov', 'forc', 'force', 'forces', 'ford', 'foreign', 'forest', 'forestwhitak', 'forev', 'forever', 'forg', 'forget', 'forgiv', 'form', 'formid', 'formula', 'fort', 'fortun', 'fortune', 'forward', 'foster', 'fought', 'foundfootag', 'fourth', 'fox', 'frame', 'franc', 'france', 'francesmcdormand', 'francisco', 'francisfordcoppola', 'frank', 'frankenstein', 'franki', 'frankoz', 'frantic', 'fratern', 'fraud', 'freak', 'fred', 'freddi', 'freddieprinzejr', 'free', 'freedom', 'freez', 'french', 'frequent', 'fresh', 'freshman', 'friend', 'friendli', 'friends', 'friendship', 'frighten', 'frog', 'frontier', 'frustrat', 'fu', 'fuel', 'fugit', 'fulfil', 'fulli', 'fun', 'fund', 'funer', 'futur', 'future', 'futurist', 'ga', 'gabrielbyrn', 'gain', 'galaxi', 'gambl', 'gambler', 'game', 'games', 'gang', 'gangster', 'garag', 'garden', 'gari', 'garyoldman', 'garysinis', 'gasstat', 'gather', 'gave', 'gay', 'genehackman', 'gener', 'general', 'genet', 'geniu', 'genius', 'geoffreyrush', 'georg', 'george', 'georgeclooney', 'georgia', 'gerardbutl', 'german', 'germani', 'germany', 'getaway', 'ghetto', 'ghost', 'giant', 'gift', 'giovanniribisi', 'girl', 'girlfriend', 'girls', 'given', 'glass', 'glennclos', 'global', 'globe', 'goal', 'god', 'goe', 'gold', 'golden', 'golf', 'gone', 'good', 'goodvsevil', 'gordon', 'gore', 'gorgeou', 'gorilla', 'got', 'gotham', 'govern', 'government', 'governor', 'grace', 'grade', 'gradual', 'graduat', 'grand', 'grandfath', 'grandfather', 'grandmoth', 'grandmother', 'grant', 'grave', 'great', 'greater', 'greatest', 'greec', 'greed', 'greek', 'green', 'greg', 'gregkinnear', 'grew', 'grief', 'griev', 'griffin', 'grim', 'grip', 'grisli', 'ground', 'group', 'groupoffriend', 'grow', 'grown', 'gruesom', 'guard', 'guardian', 'guerrilla', 'guest', 'guid', 'guilt', 'guitar', 'gun', 'gunfight', 'gunsling', 'guru', 'guy', 'guypearc', 'guys', 'gwynethpaltrow', 'ha', 'hack', 'hacker', 'hair', 'half', 'hall', 'halleberri', 'halloween', 'hallucin', 'han', 'hand', 'hands', 'handsom', 'handtohandcombat', 'hang', 'hankazaria', 'hannah', 'happen', 'happi', 'happili', 'happiness', 'happy', 'hara', 'harass', 'harbor', 'hard', 'harlem', 'harold', 'haroldrami', 'harri', 'harrisonford', 'harsh', 'harvard', 'harvey', 'harveykeitel', 'hasn', 'hatch', 'hate', 'haunt', 'hauntedhous', 'haven', 'havoc', 'hawaii', 'haydenchristensen', 'head', 'heal', 'health', 'hear', 'heart', 'heartbreak', 'heat', 'heather', 'heathledg', 'heaven', 'heir', 'heiress', 'heist', 'held', 'helen', 'helenabonhamcart', 'helenhunt', 'helenmirren', 'helicopt', 'hell', 'help', 'henri', 'hero', 'heroes', 'heroic', 'heroin', 'hi', 'hidden', 'hide', 'high', 'highli', 'highschool', 'highschoolsport', 'highschoolstud', 'highway', 'hijack', 'hilari', 'hilaryswank', 'hill', 'himalaya', 'hip', 'hire', 'histor', 'histori', 'historicalfigur', 'history', 'hit', 'hitchhik', 'hitman', 'ho', 'hockey', 'hold', 'hole', 'holiday', 'hollywood', 'home', 'homeinvas', 'homeland', 'homeless', 'homelessperson', 'hometown', 'homicid', 'homosexu', 'honey', 'honeymoon', 'hong', 'honor', 'hood', 'hoodlum', 'hook', 'hop', 'hope', 'hopedavi', 'hopper', 'horribl', 'horrif', 'horrifi', 'horror', 'hors', 'hospit', 'hospital', 'host', 'hostag', 'hostage', 'hostil', 'hot', 'hotel', 'hotelroom', 'hour', 'hous', 'house', 'housewif', 'howard', 'howev', 'huge', 'hugh', 'hughgrant', 'hughjackman', 'hugoweav', 'human', 'humanity', 'humankind', 'humans', 'humili', 'humor', 'hundr', 'hunger', 'hungri', 'hunt', 'hunter', 'husband', 'hustler', 'hypnosi', 'hyun', 'ianmckellen', 'ice', 'icecub', 'icon', 'idea', 'ideal', 'idealist', 'ident', 'identity', 'idol', 'idyl', 'ignit', 'ignor', 'ii', 'iii', 'il', 'ill', 'illeg', 'illegalimmigr', 'illegalprostitut', 'illness', 'imag', 'imagin', 'imaginari', 'imagined', 'imax', 'immedi', 'immens', 'immigr', 'immort', 'impact', 'imperi', 'imperson', 'import', 'imposs', 'impress', 'imprison', 'inadvert', 'incest', 'incid', 'includ', 'increas', 'increasingli', 'incred', 'independ', 'independentfilm', 'india', 'indian', 'indiana', 'indianlead', 'individu', 'industri', 'inexplic', 'infam', 'infect', 'infidel', 'infiltr', 'influenc', 'inform', 'inhabit', 'inherit', 'initi', 'inject', 'injur', 'injuri', 'inmat', 'inner', 'innoc', 'insan', 'insecur', 'insid', 'insist', 'inspector', 'inspir', 'instal', 'instantli', 'instead', 'instinct', 'instructor', 'insur', 'insurg', 'intellig', 'intend', 'intens', 'intent', 'intern', 'internet', 'interrog', 'intertwin', 'interview', 'intim', 'intrigu', 'introduc', 'invad', 'invas', 'invent', 'inventor', 'invest', 'investig', 'invis', 'invit', 'involv', 'iowa', 'ira', 'iraq', 'ireland', 'irish', 'iron', 'island', 'isn', 'isol', 'isra', 'israel', 'issu', 'itali', 'italian', 'jack', 'jackblack', 'jacki', 'jackiechan', 'jacknicholson', 'jackson', 'jadapinkettsmith', 'jail', 'jake', 'jakegyllenha', 'jame', 'james', 'jamescaan', 'jamescromwel', 'jamesfranco', 'jamesgandolfini', 'jamesmarsden', 'jamesmcavoy', 'jamesremar', 'jameswood', 'jami', 'jamiefoxx', 'jamieleecurti', 'jane', 'japan', 'japanes', 'jaredleto', 'jason', 'jasonbateman', 'jasonbigg', 'jasonle', 'jasonsegel', 'jasonstatham', 'jasonsudeiki', 'javierbardem', 'jay', 'jazz', 'jealousi', 'jean', 'jeanreno', 'jedi', 'jeff', 'jeffbridg', 'jeffdaniel', 'jeffgoldblum', 'jeffreywright', 'jenamalon', 'jennif', 'jenniferaniston', 'jenniferconnelli', 'jennifergarn', 'jenniferjasonleigh', 'jenniferlawr', 'jenniferlopez', 'jeremyiron', 'jeremyrenn', 'jerri', 'jersey', 'jess', 'jesseeisenberg', 'jessicaalba', 'jessicabiel', 'jessicachastain', 'jesu', 'jesus', 'jetli', 'jew', 'jewel', 'jewish', 'jigsaw', 'jill', 'jim', 'jimbroadb', 'jimcarrey', 'jimcaviezel', 'jimmi', 'jimmy', 'jin', 'joanallen', 'joancusack', 'joaquinphoenix', 'job', 'jock', 'jodiefost', 'joe', 'joel', 'joelcoen', 'joeledgerton', 'joelschumach', 'joepesci', 'joey', 'john', 'johnc', 'johncarpent', 'johncusack', 'johngoodman', 'johnheard', 'johnhurt', 'johnkrasinski', 'johnleguizamo', 'johnlithgow', 'johnmalkovich', 'johnmctiernan', 'johnni', 'johnnydepp', 'johnson', 'johntravolta', 'johnturturro', 'join', 'jon', 'jonahhil', 'jonathan', 'jone', 'jones', 'jonfavreau', 'jonvoight', 'jordan', 'joseph', 'josephfienn', 'josephgordon', 'josh', 'joshbrolin', 'joshhartnett', 'joshhutcherson', 'joshluca', 'journal', 'journalist', 'journey', 'joy', 'jr', 'judelaw', 'judg', 'judidench', 'juli', 'julian', 'juliannemoor', 'juliarobert', 'juliastil', 'julieandrew', 'jump', 'jungl', 'junior', 'junki', 'just', 'justic', 'justice', 'justinlong', 'justintimberlak', 'kansa', 'karen', 'karlurban', 'kate', 'katebeckinsal', 'katebosworth', 'katehudson', 'katemara', 'katewinslet', 'katherineheigl', 'kathyb', 'kati', 'katieholm', 'keanureev', 'keiraknightley', 'kelli', 'kelly', 'kellypreston', 'kennethbranagh', 'kevin', 'kevinbacon', 'kevincostn', 'kevinhart', 'kevinjam', 'kevinklin', 'kevinsmith', 'kevinspacey', 'key', 'kgb', 'khan', 'kick', 'kid', 'kidnap', 'kidnapp', 'kidnapped', 'kids', 'kidsandfamili', 'kiefersutherland', 'kill', 'killed', 'killer', 'killerrobot', 'killers', 'kim', 'kimbasing', 'kind', 'king', 'kingdom', 'kingpin', 'kirk', 'kirstendunst', 'kiss', 'kitchen', 'knew', 'knife', 'knight', 'knock', 'know', 'knowledg', 'known', 'kong', 'korean', 'kriskristofferson', 'kristenbel', 'kristenstewart', 'kristenwiig', 'kristinscottthoma', 'krueger', 'kung', 'kungfu', 'kurt', 'kurtrussel', 'kyle', 'la', 'labor', 'laboratori', 'lack', 'ladi', 'ladykil', 'laid', 'lake', 'land', 'landscap', 'lane', 'languag', 'lapd', 'larg', 'larger', 'largest', 'larri', 'lassehallström', 'lasvega', 'late', 'later', 'latest', 'laugh', 'launch', 'laura', 'lauralinney', 'laurencefishburn', 'law', 'lawyer', 'lax', 'le', 'lead', 'leader', 'leagu', 'learn', 'leav', 'led', 'lee', 'left', 'leg', 'legaci', 'legal', 'legend', 'legendari', 'legion', 'lenaheadey', 'length', 'leo', 'leon', 'leonardnimoy', 'leonardodicaprio', 'lesbian', 'lesbianrelationship', 'lesliemann', 'lesson', 'let', 'lethal', 'letter', 'level', 'levitt', 'lewi', 'lgbt', 'liamneeson', 'liar', 'liber', 'lie', 'lieuten', 'lievschreib', 'lif', 'life', 'lifeanddeath', 'lifelong', 'lifestyl', 'light', 'lightn', 'lik', 'like', 'lili', 'limit', 'linda', 'lindsaylohan', 'line', 'link', 'lion', 'lisa', 'list', 'liter', 'literatur', 'littl', 'littleboy', 'live', 'lives', 'living', 'livtyl', 'll', 'lo', 'loan', 'local', 'locat', 'lock', 'loganlerman', 'lola', 'london', 'londonengland', 'lone', 'loneli', 'loner', 'long', 'longer', 'longtim', 'look', 'loos', 'loose', 'lord', 'losangel', 'lose', 'loser', 'loss', 'lossofbroth', 'lossofchild', 'lossoffamili', 'lossoffath', 'lossofhusband', 'lossoflov', 'lossofmoth', 'lossofson', 'lost', 'lot', 'loui', 'louisiana', 'lov', 'love', 'loveatfirstsight', 'loveofone', 'lover', 'loves', 'lovesick', 'lovetriangl', 'low', 'loyal', 'loyalti', 'lt', 'luca', 'luci', 'luck', 'lucki', 'lucy', 'luke', 'lukewilson', 'lure', 'lust', 'luxuri', 'machin', 'machine', 'machinegun', 'maci', 'mad', 'mafia', 'magazin', 'maggi', 'maggiegyllenha', 'magic', 'magician', 'maid', 'main', 'maintain', 'major', 'make', 'malcolm', 'male', 'malefemalerelationship', 'malefriendship', 'malenud', 'mall', 'man', 'manag', 'mandymoor', 'manhattan', 'manhunt', 'mani', 'maniac', 'manipul', 'mankind', 'mann', 'mansion', 'manvsmachin', 'map', 'mar', 'march', 'marcu', 'mari', 'maria', 'mariabello', 'marijuana', 'marin', 'marisatomei', 'mark', 'market', 'markruffalo', 'markstrong', 'markwahlberg', 'marlonwayan', 'marri', 'marriag', 'marriage', 'marriagecrisi', 'marriagepropos', 'married', 'marriedcoupl', 'marshal', 'martha', 'marti', 'martial', 'martialart', 'martian', 'martin', 'martinlawr', 'martinscorses', 'martinsheen', 'marvelcinematicunivers', 'marvelcom', 'mary', 'mask', 'mass', 'massacr', 'massiv', 'massmurd', 'master', 'mastermind', 'match', 'mate', 'materi', 'mathemat', 'matt', 'mattdamon', 'mattdillon', 'matter', 'matthew', 'matthewbroderick', 'matthewlillard', 'matthewmcconaughey', 'max', 'maxvonsydow', 'maya', 'mayor', 'maze', 'mcclane', 'mean', 'meanwhil', 'mechan', 'media', 'medic', 'medicin', 'mediev', 'meet', 'megryan', 'melbrook', 'melgibson', 'melvin', 'member', 'memori', 'men', 'menac', 'mental', 'mentor', 'mercenari', 'mere', 'mermaid', 'merylstreep', 'messag', 'met', 'meteor', 'method', 'mexican', 'mexicanstandoff', 'mexico', 'mia', 'miami', 'michael', 'michaelangarano', 'michaelbay', 'michaelcain', 'michaelclarkeduncan', 'michaeldougla', 'michaelfassbend', 'michaelj', 'michaelkeaton', 'michaelmoor', 'michaelpeña', 'michaelrapaport', 'michaelshannon', 'michaelsheen', 'michel', 'michellemonaghan', 'michellepfeiff', 'michellerodriguez', 'michellewilliam', 'michigan', 'mickeyrourk', 'mid', 'middl', 'middle', 'middleag', 'middleeast', 'midlifecrisi', 'midst', 'midwest', 'mike', 'mikemy', 'milakuni', 'mild', 'mile', 'militari', 'millajovovich', 'miller', 'million', 'millionair', 'mind', 'miner', 'minist', 'minor', 'minut', 'miracl', 'mirror', 'misadventur', 'mischiev', 'misfit', 'miss', 'missil', 'missing', 'mission', 'missionofmurd', 'mississippi', 'mistak', 'mistaken', 'mistakenident', 'mistress', 'mix', 'mob', 'mobster', 'mockumentari', 'model', 'modern', 'mom', 'moment', 'money', 'monk', 'monkey', 'monster', 'monstrou', 'montana', 'month', 'moon', 'moonlight', 'moor', 'moral', 'morganfreeman', 'mormon', 'morn', 'morrischestnut', 'mortal', 'moscow', 'mose', 'motel', 'mother', 'motherdaughterrelationship', 'motherrol', 'mothersonrelationship', 'motion', 'motiv', 'motor', 'motorcycl', 'mount', 'mountain', 'mous', 'mouth', 'movement', 'movi', 'movie', 'movies', 'moviestar', 'mr', 'multi', 'multipl', 'multiplestorylin', 'mumblecor', 'mumblegor', 'murder', 'murdered', 'murderhunt', 'museum', 'music', 'musician', 'muslim', 'mutant', 'mutat', 'mutini', 'mutual', 'mysteri', 'mystery', 'mystic', 'mythic', 'mytholog', 'naiv', 'nanni', 'naomiwatt', 'narrat', 'nasa', 'nasti', 'natalieportman', 'nation', 'nativ', 'nativeamerican', 'natur', 'nature', 'navi', 'navig', 'nazi', 'near', 'nearbi', 'nearli', 'need', 'nefari', 'negoti', 'neighbor', 'neighborhood', 'neil', 'nelson', 'nemesis', 'neo', 'nephew', 'nerd', 'nerdi', 'network', 'nevecampbel', 'new', 'newfound', 'newident', 'newjersey', 'newli', 'newlov', 'news', 'newspap', 'newyear', 'newyork', 'newyorkc', 'nialong', 'nice', 'nick', 'nicknolt', 'nicolascag', 'nicolekidman', 'niec', 'niece', 'night', 'nightclub', 'nightmar', 'nightmare', 'nightshyamalan', 'nightstand', 'ninja', 'noir', 'non', 'normal', 'north', 'northern', 'noth', 'notic', 'notori', 'novel', 'novelist', 'nowher', 'nuclear', 'nuclearmissil', 'nuditi', 'number', 'numer', 'nun', 'nurs', 'nypd', 'object', 'obsess', 'obstacl', 'obtain', 'occult', 'occupi', 'occur', 'ocean', 'odd', 'odyssey', 'offer', 'offic', 'officer', 'offici', 'ohio', 'oil', 'old', 'older', 'oliv', 'oliverplatt', 'oliverston', 'oliviawild', 'olymp', 'olympicgam', 'onc', 'onli', 'onlin', 'onofrio', 'ontherun', 'open', 'oper', 'opera', 'operation', 'opportun', 'oppos', 'opposit', 'oppress', 'orc', 'order', 'ordinari', 'oregon', 'organ', 'organization', 'organizedcrim', 'origin', 'orlandobloom', 'orlean', 'orphan', 'orphanag', 'oscar', 'otherworldli', 'outback', 'outbreak', 'outcast', 'outerspac', 'outlaw', 'outrag', 'outsid', 'outwit', 'overcom', 'overrun', 'overwhelm', 'owenwilson', 'owl', 'owner', 'pacif', 'pack', 'pact', 'paid', 'pain', 'paint', 'painter', 'pair', 'pal', 'pan', 'panic', 'paper', 'parallel', 'parallelworld', 'paranoia', 'paranorm', 'parent', 'parents', 'parentskidsrelationship', 'pari', 'paris', 'park', 'parker', 'parodi', 'parol', 'parti', 'particip', 'particularli', 'partner', 'partnership', 'party', 'pass', 'passeng', 'passion', 'past', 'pastor', 'path', 'patient', 'patriarch', 'patriciaarquett', 'patriciaclarkson', 'patrick', 'patrickstewart', 'patrickwilson', 'patrol', 'paul', 'paulapatton', 'paulbettani', 'paulgiamatti', 'paulnewman', 'paulrudd', 'paulw', 'paulwalk', 'pawn', 'pay', 'peac', 'peace', 'peasant', 'penguin', 'pennsylvania', 'penélopecruz', 'peopl', 'people', 'perfect', 'perform', 'peril', 'period', 'perioddrama', 'person', 'persuad', 'pet', 'pete', 'peter', 'peterjackson', 'petersarsgaard', 'petti', 'phil', 'philadelphia', 'philipseymourhoffman', 'phillipnoyc', 'philosophi', 'phone', 'photo', 'photograph', 'photographi', 'physic', 'piano', 'pick', 'pictur', 'picture', 'piec', 'piercebrosnan', 'pig', 'pilot', 'pimp', 'piperperabo', 'pirat', 'pistol', 'pit', 'place', 'plagu', 'plan', 'plane', 'planet', 'plannedmurd', 'plans', 'plant', 'plantat', 'play', 'playboy', 'player', 'playwright', 'pleasur', 'plenti', 'plot', 'plung', 'po', 'poet', 'poetri', 'point', 'poison', 'poker', 'polar', 'polic', 'police', 'policebrut', 'policechas', 'policeman', 'policeoffic', 'policeoper', 'polit', 'politician', 'pool', 'poor', 'pop', 'popstar', 'popul', 'popular', 'porn', 'pornographi', 'port', 'portal', 'porter', 'portrait', 'portray', 'pose', 'posit', 'possess', 'possibl', 'post', 'potenti', 'poverti', 'pow', 'power', 'poweroutag', 'powers', 'practic', 'prank', 'prayer', 'pre', 'preacher', 'predat', 'pregnanc', 'pregnancyandbirth', 'pregnant', 'prehistor', 'prejudic', 'premonit', 'prepar', 'prequel', 'presenc', 'present', 'presid', 'president', 'presidenti', 'presidentialelect', 'press', 'pressur', 'pretend', 'pretti', 'prevent', 'previou', 'prey', 'price', 'pride', 'priest', 'prime', 'princ', 'prince', 'princess', 'princip', 'prison', 'prisonersofwar', 'privat', 'prize', 'pro', 'problem', 'problems', 'process', 'produc', 'product', 'profession', 'professor', 'profit', 'program', 'project', 'prom', 'promin', 'promis', 'promot', 'prompt', 'properti', 'propheci', 'propos', 'prosecut', 'prospect', 'prostitut', 'protect', 'protest', 'prove', 'provid', 'psychiatr', 'psychiatrist', 'psychic', 'psycholog', 'psychologist', 'psychopath', 'psychot', 'puberti', 'public', 'publish', 'pull', 'punish', 'punk', 'puppet', 'purchas', 'purpos', 'pursu', 'pursuit', 'push', 'quarantin', 'queen', 'queenlatifah', 'quentintarantino', 'quest', 'question', 'quick', 'quickli', 'quiet', 'quirki', 'quit', 'rabbit', 'race', 'raceagainsttim', 'racer', 'rachaelleighcook', 'rachel', 'rachelmcadam', 'rachelweisz', 'racial', 'racism', 'radhamitchel', 'radio', 'rag', 'rage', 'rageandh', 'raid', 'railroad', 'rain', 'rais', 'ralli', 'ralph', 'ralphfienn', 'rampag', 'ranch', 'randyquaid', 'ranger', 'rank', 'ransom', 'rape', 'rapidli', 'rapmus', 'rapper', 'rare', 'rat', 'rate', 'ravag', 'raw', 'ray', 'rayliotta', 'raywinston', 'reach', 'reaction', 'read', 'readi', 'real', 'realis', 'realiti', 'reality', 'realiz', 'realli', 'realm', 'reason', 'rebel', 'rebelli', 'rebellion', 'rebuild', 'receiv', 'recent', 'reclaim', 'reclus', 'reconcil', 'reconnect', 'record', 'recov', 'recruit', 'red', 'redempt', 'redemption', 'reel', 'reesewitherspoon', 'refug', 'refus', 'regain', 'regim', 'reginak', 'regret', 'reign', 'reilli', 'reject', 'rekindl', 'rel', 'relat', 'relationship', 'relationships', 'releas', 'relentless', 'reli', 'religi', 'religion', 'religionandsupernatur', 'reloc', 'reluct', 'reluctantli', 'remain', 'remak', 'rememb', 'remot', 'renegad', 'renerusso', 'rennyharlin', 'renown', 'renéezellweg', 'repair', 'repay', 'replac', 'report', 'reporter', 'repres', 'repress', 'reput', 'requir', 'rescu', 'research', 'resid', 'resist', 'resolv', 'resort', 'resourc', 'respect', 'respons', 'rest', 'restaur', 'restor', 'result', 'results', 'resurrect', 'retel', 'retir', 'retriev', 'return', 'reunion', 'reunit', 'reveal', 'revel', 'reveng', 'revenge', 'reviv', 'revolut', 'revolutionari', 'revolv', 'reward', 'rich', 'richard', 'richarddonn', 'richardger', 'richardlinklat', 'rick', 'rid', 'riddl', 'ride', 'ridleyscott', 'rifl', 'right', 'rightandjustic', 'riley', 'ring', 'riot', 'ripley', 'rise', 'risk', 'rival', 'rivalri', 'river', 'road', 'roadmovi', 'roadtrip', 'roam', 'rob', 'robber', 'robberi', 'robcohen', 'robert', 'robertdeniro', 'robertdowneyjr', 'robertduval', 'robertenglund', 'robertredford', 'robertrodriguez', 'robertzemecki', 'robin', 'robinson', 'robinwilliam', 'robinwright', 'robot', 'robrein', 'rock', 'rockandrol', 'rocket', 'rocki', 'rockstar', 'roger', 'rogu', 'role', 'roll', 'roman', 'romanc', 'romance', 'romant', 'romanticcomedi', 'rome', 'romeo', 'romero', 'ron', 'ronhoward', 'ronni', 'ronperlman', 'roof', 'rooki', 'room', 'roommat', 'rosamundpik', 'rosariodawson', 'rose', 'rosebyrn', 'ross', 'rough', 'round', 'routin', 'row', 'roy', 'royal', 'royalti', 'rugrat', 'ruin', 'rule', 'rumor', 'run', 'runaway', 'runner', 'rural', 'ruralset', 'rush', 'russel', 'russellcrow', 'russia', 'russian', 'ruth', 'ruthless', 'ryan', 'ryangosl', 'ryanphillipp', 'ryanreynold', 'sabotag', 'sacrific', 'sad', 'sadism', 'sadist', 'safe', 'safeti', 'safety', 'saga', 'said', 'sail', 'sailor', 'sale', 'salesman', 'salmahayek', 'sam', 'samantha', 'samanthamorton', 'samelliott', 'samneil', 'samraimi', 'samrockwel', 'samshepard', 'samuel', 'samuell', 'samurai', 'san', 'sandrabullock', 'sanfrancisco', 'santa', 'santaclau', 'sara', 'sarah', 'sarahmichellegellar', 'satan', 'satellit', 'satir', 'savag', 'save', 'savingtheworld', 'say', 'sbook', 'scam', 'scandal', 'scare', 'scari', 'scarlettjohansson', 'scene', 'scheme', 'schizophrenia', 'scholarship', 'school', 'schoolteach', 'sci', 'scienc', 'sciencefict', 'scientif', 'scientist', 'score', 'scotland', 'scott', 'scottglenn', 'scottish', 'scout', 'scrambl', 'scream', 'screen', 'screenwrit', 'scubadiv', 'sea', 'seal', 'sean', 'seanbean', 'seanconneri', 'seannwilliamscott', 'seanpenn', 'search', 'seasid', 'season', 'sebastian', 'second', 'secret', 'secretag', 'secretari', 'secretident', 'secretintelligenceservic', 'secretli', 'secretlov', 'secretmiss', 'secretorgan', 'secrets', 'secretservic', 'secretsocieti', 'section', 'secur', 'securityguard', 'seduc', 'seduct', 'seek', 'seemingli', 'seen', 'seiz', 'sel', 'self', 'selfsacrific', 'sell', 'selmablair', 'semi', 'senat', 'send', 'senior', 'sens', 'sent', 'sentenc', 'seo', 'separ', 'sequel', 'sergeant', 'seri', 'serial', 'serialkil', 'series', 'seriesofmurd', 'seriou', 'serv', 'servant', 'servic', 'session', 'set', 'seth', 'sethgreen', 'sethrogen', 'settl', 'settler', 'seven', 'sever', 'sewer', 'sex', 'sexaddict', 'sexi', 'sexual', 'sexualabus', 'shadi', 'shadow', 'shake', 'shakespear', 'shakespeare', 'shape', 'share', 'shark', 'sharonston', 'sharp', 'shatter', 'shawnlevi', 'shelter', 'sheriff', 'shi', 'shialabeouf', 'shift', 'ship', 'shipwreck', 'shock', 'shoe', 'shoot', 'shootout', 'shop', 'short', 'shot', 'shotgun', 'showdown', 'shower', 'shut', 'sibl', 'sick', 'sidekick', 'sight', 'sign', 'sigourneyweav', 'silenc', 'silent', 'silver', 'similar', 'simon', 'simonpegg', 'simpl', 'sin', 'sinc', 'sing', 'singer', 'singl', 'singlemoth', 'singlepar', 'sinist', 'sir', 'sissyspacek', 'sister', 'sistersisterrelationship', 'sit', 'site', 'situat', 'situation', 'size', 'skateboard', 'skeleton', 'skeptic', 'ski', 'skill', 'skull', 'sky', 'skyscrap', 'slacker', 'slasher', 'slaughter', 'slave', 'slaveri', 'sleazi', 'sleep', 'sleepi', 'slif', 'slowli', 'slum', 'small', 'smalltown', 'smart', 'smith', 'smitten', 'smoke', 'smuggl', 'smuggler', 'snake', 'snatch', 'sniper', 'snow', 'snowstorm', 'soccer', 'social', 'societi', 'society', 'sociopath', 'solar', 'sold', 'soldier', 'soldiers', 'sole', 'solomon', 'solv', 'someon', 'someth', 'sometim', 'somewher', 'son', 'song', 'soon', 'sophi', 'sorcer', 'soror', 'sort', 'soul', 'sound', 'south', 'southafrica', 'southern', 'southernusa', 'soviet', 'space', 'spacecraft', 'spacemarin', 'spacemiss', 'spaceopera', 'spaceship', 'spacetravel', 'spain', 'span', 'spanish', 'spark', 'speak', 'special', 'specialist', 'spectacular', 'spell', 'spend', 'spent', 'spi', 'spider', 'spikele', 'spin', 'spiral', 'spirit', 'spiritu', 'spoof', 'sport', 'spot', 'spread', 'spring', 'squad', 'st', 'staff', 'stage', 'stake', 'stalk', 'stalker', 'stan', 'stand', 'stanleytucci', 'star', 'stardom', 'stark', 'start', 'state', 'states', 'station', 'stay', 'steal', 'steampunk', 'steel', 'stellanskarsgård', 'step', 'stepfath', 'stephen', 'stephendorff', 'stephenfrear', 'stephenrea', 'steve', 'stevebuscemi', 'stevecarel', 'stevemartin', 'steven', 'stevensoderbergh', 'stevenspielberg', 'stevezahn', 'stewart', 'stock', 'stolen', 'stone', 'stoner', 'stop', 'store', 'stori', 'stories', 'storm', 'story', 'straight', 'strain', 'strand', 'strang', 'stranger', 'street', 'streetgang', 'streets', 'strength', 'stress', 'stretch', 'strict', 'strike', 'strip', 'stripclub', 'stripper', 'strive', 'strong', 'struggl', 'stuart', 'stuck', 'student', 'studi', 'studio', 'stumbl', 'stun', 'stunt', 'style', 'subject', 'submarin', 'subsequ', 'suburban', 'subway', 'succeed', 'success', 'successful', 'successor', 'sudden', 'suddenli', 'suffer', 'suggest', 'suicid', 'suicideattempt', 'suit', 'suitor', 'sullivan', 'summer', 'summon', 'sun', 'sunglass', 'super', 'superhero', 'superhuman', 'superman', 'supermarket', 'supernatur', 'supernaturalpow', 'superpow', 'superstar', 'supervillain', 'suppli', 'support', 'suppos', 'suppress', 'sure', 'surf', 'surface', 'surfer', 'surgeon', 'surpris', 'surreal', 'surround', 'surveil', 'surviv', 'survival', 'survive', 'survivor', 'susan', 'susansarandon', 'suspect', 'suspens', 'suspici', 'suspicion', 'sweep', 'sweet', 'sweetheart', 'swimmingpool', 'switch', 'sword', 'swordandsorceri', 'swordfight', 'swordplay', 'sylvesterstallon', 'symbol', 'tabl', 'tag', 'tail', 'tak', 'taken', 'tale', 'talent', 'talk', 'talkinganim', 'tall', 'tank', 'tape', 'target', 'task', 'tast', 'tattoo', 'taxi', 'taylor', 'teach', 'teacher', 'team', 'tear', 'tech', 'technolog', 'ted', 'teen', 'teenag', 'teenagecrush', 'teenagegirl', 'teenager', 'teencomedi', 'teenmovi', 'telepathi', 'teleport', 'televis', 'tell', 'tens', 'tension', 'term', 'termin', 'terminalil', 'terrencehoward', 'terri', 'terribl', 'terrifi', 'terror', 'terrorist', 'test', 'texa', 'texas', 'th', 'thailand', 'thandienewton', 'thank', 'thanksgiv', 'theater', 'theft', 'themselv', 'theori', 'therapist', 'thi', 'thief', 'thiev', 'thing', 'things', 'think', 'thoma', 'thomashadenchurch', 'thomasjan', 'thought', 'thousand', 'threat', 'threaten', 'thrill', 'thriller', 'throne', 'throw', 'thrown', 'thrust', 'thu', 'thug', 'thwart', 'ticket', 'tie', 'tiger', 'tim', 'timallen', 'timburton', 'time', 'times', 'timetravel', 'timothyolyph', 'timrobbin', 'timroth', 'tini', 'tire', 'titl', 'tobeymaguir', 'today', 'todd', 'togeth', 'tokyo', 'told', 'tom', 'tomcruis', 'tomhank', 'tomhardi', 'tommi', 'tommyleejon', 'tomwilkinson', 'toni', 'tonicollett', 'tonyscott', 'took', 'torment', 'torn', 'tornado', 'tortur', 'total', 'touch', 'tough', 'toughest', 'tour', 'tourist', 'tournament', 'tower', 'town', 'toxic', 'toy', 'toycomestolif', 'track', 'trade', 'tradit', 'traffic', 'tragedi', 'tragedy', 'tragic', 'trail', 'train', 'trainer', 'traitor', 'transfer', 'transform', 'transplant', 'transport', 'trap', 'trauma', 'traumat', 'travel', 'treacher', 'treasur', 'treasurehunt', 'treat', 'treatment', 'tree', 'trek', 'tri', 'trial', 'triangl', 'tribe', 'trick', 'trigger', 'trio', 'trip', 'triumph', 'troop', 'tropic', 'troubl', 'trouble', 'troy', 'truck', 'trucker', 'true', 'trust', 'truth', 'tunnel', 'turmoil', 'turn', 'turned', 'turner', 'turtl', 'tv', 'tvmovi', 'tvshow', 'twenti', 'twin', 'twist', 'tycoon', 'tyler', 'tylerperri', 'type', 'typic', 'téaleoni', 'ugli', 'ultim', 'umathurman', 'unabl', 'unawar', 'uncl', 'uncle', 'unconvent', 'uncov', 'undead', 'undercov', 'undercoverag', 'undercovercop', 'underdog', 'undergo', 'underground', 'understand', 'underwat', 'underworld', 'unemploy', 'unexpect', 'unexpectedli', 'unfold', 'unforgett', 'unfortun', 'unfortunately', 'unhappi', 'unimagin', 'union', 'uniqu', 'unit', 'univers', 'universe', 'university', 'unknown', 'unleash', 'unlik', 'unlock', 'unorthodox', 'unpreced', 'unravel', 'unsimulatedsex', 'unsoci', 'unstabl', 'unstopp', 'unsuspect', 'unusu', 'unwittingli', 'upcom', 'upper', 'upperclass', 'upsid', 'uptight', 'urban', 'usa', 'usapresid', 'use', 'vacat', 'vacation', 'valkilm', 'valley', 'valu', 'valuabl', 'vampir', 'van', 'vandal', 'vanessa', 'vanessahudgen', 'vanish', 'variou', 'vast', 'vatican', 'vega', 'vegas', 'veng', 'vengeanc', 'venic', 'ventur', 'verafarmiga', 'verg', 'veri', 'version', 'veteran', 'viciou', 'victim', 'victims', 'victor', 'victori', 'video', 'videogam', 'vietnam', 'vietnamveteran', 'vietnamwar', 'view', 'viggomortensen', 'vigilant', 'vike', 'villag', 'village', 'villain', 'vincent', 'vincentd', 'vincevaughn', 'vindiesel', 'vingrham', 'violadavi', 'violenc', 'violence', 'violent', 'virgin', 'virginia', 'virginiamadsen', 'virtual', 'virtualr', 'viru', 'vision', 'visit', 'visitor', 'visual', 'voic', 'voice', 'volcano', 'volunt', 'vow', 'voyag', 'voyeur', 'wa', 'wade', 'wage', 'wait', 'waitress', 'wake', 'walk', 'walker', 'wall', 'walter', 'wander', 'wang', 'want', 'war', 'warcrim', 'ward', 'warlock', 'warn', 'warondrug', 'warren', 'warrior', 'wars', 'wash', 'washington', 'washingtond', 'wast', 'watch', 'water', 'wave', 'way', 'ways', 'wealth', 'wealthi', 'weapon', 'wear', 'weather', 'web', 'wed', 'wedding', 'week', 'weekend', 'welcom', 'went', 'werewolf', 'wesbentley', 'wescraven', 'wesleysnip', 'west', 'western', 'whale', 'wheelchair', 'whi', 'whip', 'whit', 'white', 'whitehous', 'whoopigoldberg', 'widow', 'wif', 'wife', 'wifehusbandrelationship', 'wild', 'wilder', 'wilderness', 'wildli', 'willemdafo', 'willferrel', 'william', 'williamh', 'williamhurt', 'williamshatn', 'willpatton', 'willsmith', 'wilson', 'win', 'wind', 'window', 'wine', 'wing', 'winner', 'winonaryd', 'winter', 'wipe', 'wise', 'wish', 'wit', 'witch', 'wizard', 'wolf', 'woman', 'womandirector', 'women', 'won', 'wonder', 'woo', 'wood', 'woods', 'woodyallen', 'woodyharrelson', 'word', 'work', 'workahol', 'worker', 'workers', 'working', 'world', 'worldwari', 'worldwarii', 'worldwid', 'worri', 'wors', 'worse', 'worst', 'worth', 'wound', 'wreak', 'wrestl', 'wretch', 'wright', 'write', 'writer', 'written', 'wrong', 'xenophobia', 'yacht', 'yakuza', 'yard', 'year', 'yearn', 'years', 'york', 'young', 'youngadult', 'younger', 'youngest', 'youth', 'zacefron', 'zachgalifianaki', 'zebra', 'zoe', 'zoesaldana', 'zombi', 'zombies', 'zone', 'zoo', 'zooeydeschanel']\n"
     ]
    }
   ],
   "source": [
    "print(cv.get_feature_names())"
   ]
  },
  {
   "cell_type": "code",
   "execution_count": 34,
   "id": "f9da609c",
   "metadata": {},
   "outputs": [],
   "source": [
    "similarity = cosine_similarity(vectors)"
   ]
  },
  {
   "cell_type": "code",
   "execution_count": 35,
   "id": "4b490906",
   "metadata": {},
   "outputs": [
    {
     "name": "stdout",
     "output_type": "stream",
     "text": [
      "(4806, 4806)\n"
     ]
    }
   ],
   "source": [
    "print(similarity.shape)"
   ]
  },
  {
   "cell_type": "code",
   "execution_count": 36,
   "id": "5924c335",
   "metadata": {
    "scrolled": true
   },
   "outputs": [
    {
     "name": "stdout",
     "output_type": "stream",
     "text": [
      "Aliens vs Predator: Requiem\n",
      "Independence Day\n",
      "Falcon Rising\n",
      "Titan A.E.\n",
      "Jupiter Ascending\n"
     ]
    }
   ],
   "source": [
    "def recommend(movie):\n",
    "    movie_index = movies_new_dataset[movies_new_dataset['title']==movie].index[0]\n",
    "    distances = similarity[movie_index]\n",
    "    movies_list = sorted(list(enumerate(distances)),reverse=True,key=lambda x:x[1])[1:6]\n",
    "    for new_movie in movies_list:\n",
    "        print(movies_new_dataset.iloc[new_movie[0]].title)\n",
    "        \n",
    "recommend('Avatar')"
   ]
  },
  {
   "cell_type": "code",
   "execution_count": 37,
   "id": "d58c996e",
   "metadata": {},
   "outputs": [],
   "source": [
    "pickle.dump(similarity,open('similarity.pkl','wb'))\n",
    "pickle.dump(movies_new_dataset.to_dict(),open('movies_dict.pkl','wb'))"
   ]
  },
  {
   "cell_type": "code",
   "execution_count": null,
   "id": "71c8d161",
   "metadata": {},
   "outputs": [],
   "source": []
  }
 ],
 "metadata": {
  "kernelspec": {
   "display_name": "Python 3 (ipykernel)",
   "language": "python",
   "name": "python3"
  },
  "language_info": {
   "codemirror_mode": {
    "name": "ipython",
    "version": 3
   },
   "file_extension": ".py",
   "mimetype": "text/x-python",
   "name": "python",
   "nbconvert_exporter": "python",
   "pygments_lexer": "ipython3",
   "version": "3.9.1"
  }
 },
 "nbformat": 4,
 "nbformat_minor": 5
}
